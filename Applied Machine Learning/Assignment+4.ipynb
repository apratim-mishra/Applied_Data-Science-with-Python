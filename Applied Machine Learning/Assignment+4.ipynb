{
 "cells": [
  {
   "cell_type": "markdown",
   "metadata": {},
   "source": [
    "---\n",
    "\n",
    "_You are currently looking at **version 1.0** of this notebook. To download notebooks and datafiles, as well as get help on Jupyter notebooks in the Coursera platform, visit the [Jupyter Notebook FAQ](https://www.coursera.org/learn/python-machine-learning/resources/bANLa) course resource._\n",
    "\n",
    "---"
   ]
  },
  {
   "cell_type": "markdown",
   "metadata": {},
   "source": [
    "## Assignment 4 - Understanding and Predicting Property Maintenance Fines\n",
    "\n",
    "This assignment is based on a data challenge from the Michigan Data Science Team ([MDST](http://midas.umich.edu/mdst/)). \n",
    "\n",
    "The Michigan Data Science Team ([MDST](http://midas.umich.edu/mdst/)) and the Michigan Student Symposium for Interdisciplinary Statistical Sciences ([MSSISS](https://sites.lsa.umich.edu/mssiss/)) have partnered with the City of Detroit to help solve one of the most pressing problems facing Detroit - blight. [Blight violations](http://www.detroitmi.gov/How-Do-I/Report/Blight-Complaint-FAQs) are issued by the city to individuals who allow their properties to remain in a deteriorated condition. Every year, the city of Detroit issues millions of dollars in fines to residents and every year, many of these fines remain unpaid. Enforcing unpaid blight fines is a costly and tedious process, so the city wants to know: how can we increase blight ticket compliance?\n",
    "\n",
    "The first step in answering this question is understanding when and why a resident might fail to comply with a blight ticket. This is where predictive modeling comes in. For this assignment, your task is to predict whether a given blight ticket will be paid on time.\n",
    "\n",
    "All data for this assignment has been provided to us through the [Detroit Open Data Portal](https://data.detroitmi.gov/). **Only the data already included in your Coursera directory can be used for training the model for this assignment.** Nonetheless, we encourage you to look into data from other Detroit datasets to help inform feature creation and model selection. We recommend taking a look at the following related datasets:\n",
    "\n",
    "* [Building Permits](https://data.detroitmi.gov/Property-Parcels/Building-Permits/xw2a-a7tf)\n",
    "* [Trades Permits](https://data.detroitmi.gov/Property-Parcels/Trades-Permits/635b-dsgv)\n",
    "* [Improve Detroit: Submitted Issues](https://data.detroitmi.gov/Government/Improve-Detroit-Submitted-Issues/fwz3-w3yn)\n",
    "* [DPD: Citizen Complaints](https://data.detroitmi.gov/Public-Safety/DPD-Citizen-Complaints-2016/kahe-efs3)\n",
    "* [Parcel Map](https://data.detroitmi.gov/Property-Parcels/Parcel-Map/fxkw-udwf)\n",
    "\n",
    "___\n",
    "\n",
    "We provide you with two data files for use in training and validating your models: train.csv and test.csv. Each row in these two files corresponds to a single blight ticket, and includes information about when, why, and to whom each ticket was issued. The target variable is compliance, which is True if the ticket was paid early, on time, or within one month of the hearing data, False if the ticket was paid after the hearing date or not at all, and Null if the violator was found not responsible. Compliance, as well as a handful of other variables that will not be available at test-time, are only included in train.csv.\n",
    "\n",
    "Note: All tickets where the violators were found not responsible are not considered during evaluation. They are included in the training set as an additional source of data for visualization, and to enable unsupervised and semi-supervised approaches. However, they are not included in the test set.\n",
    "\n",
    "<br>\n",
    "\n",
    "**File descriptions** (Use only this data for training your model!)\n",
    "\n",
    "    train.csv - the training set (all tickets issued 2004-2011)\n",
    "    test.csv - the test set (all tickets issued 2012-2016)\n",
    "    addresses.csv & latlons.csv - mapping from ticket id to addresses, and from addresses to lat/lon coordinates. \n",
    "     Note: misspelled addresses may be incorrectly geolocated.\n",
    "\n",
    "<br>\n",
    "\n",
    "**Data fields**\n",
    "\n",
    "train.csv & test.csv\n",
    "\n",
    "    ticket_id - unique identifier for tickets\n",
    "    agency_name - Agency that issued the ticket\n",
    "    inspector_name - Name of inspector that issued the ticket\n",
    "    violator_name - Name of the person/organization that the ticket was issued to\n",
    "    violation_street_number, violation_street_name, violation_zip_code - Address where the violation occurred\n",
    "    mailing_address_str_number, mailing_address_str_name, city, state, zip_code, non_us_str_code, country - Mailing address of the violator\n",
    "    ticket_issued_date - Date and time the ticket was issued\n",
    "    hearing_date - Date and time the violator's hearing was scheduled\n",
    "    violation_code, violation_description - Type of violation\n",
    "    disposition - Judgment and judgement type\n",
    "    fine_amount - Violation fine amount, excluding fees\n",
    "    admin_fee - $20 fee assigned to responsible judgments\n",
    "state_fee - $10 fee assigned to responsible judgments\n",
    "    late_fee - 10% fee assigned to responsible judgments\n",
    "    discount_amount - discount applied, if any\n",
    "    clean_up_cost - DPW clean-up or graffiti removal cost\n",
    "    judgment_amount - Sum of all fines and fees\n",
    "    grafitti_status - Flag for graffiti violations\n",
    "    \n",
    "train.csv only\n",
    "\n",
    "    payment_amount - Amount paid, if any\n",
    "    payment_date - Date payment was made, if it was received\n",
    "    payment_status - Current payment status as of Feb 1 2017\n",
    "    balance_due - Fines and fees still owed\n",
    "    collection_status - Flag for payments in collections\n",
    "    compliance [target variable for prediction] \n",
    "     Null = Not responsible\n",
    "     0 = Responsible, non-compliant\n",
    "     1 = Responsible, compliant\n",
    "    compliance_detail - More information on why each ticket was marked compliant or non-compliant\n",
    "\n",
    "\n",
    "___\n",
    "\n",
    "## Evaluation\n",
    "\n",
    "Your predictions will be given as the probability that the corresponding blight ticket will be paid on time.\n",
    "\n",
    "The evaluation metric for this assignment is the Area Under the ROC Curve (AUC). \n",
    "\n",
    "Your grade will be based on the AUC score computed for your classifier. A model which with an AUROC of 0.7 passes this assignment, over 0.75 will recieve full points.\n",
    "___\n",
    "\n",
    "For this assignment, create a function that trains a model to predict blight ticket compliance in Detroit using `train.csv`. Using this model, return a series of length 61001 with the data being the probability that each corresponding ticket from `test.csv` will be paid, and the index being the ticket_id.\n",
    "\n",
    "Example:\n",
    "\n",
    "    ticket_id\n",
    "       284932    0.531842\n",
    "       285362    0.401958\n",
    "       285361    0.105928\n",
    "       285338    0.018572\n",
    "                 ...\n",
    "       376499    0.208567\n",
    "       376500    0.818759\n",
    "       369851    0.018528\n",
    "       Name: compliance, dtype: float32"
   ]
  },
  {
   "cell_type": "code",
   "execution_count": 109,
   "metadata": {
    "collapsed": false
   },
   "outputs": [],
   "source": [
    "import pandas as pd\n",
    "import numpy as np\n",
    "\n",
    "def blight_model():\n",
    "    \n",
    "    # Your cncoding='ode here\n",
    "    \n",
    "    return result# Your answer here\n"
   ]
  },
  {
   "cell_type": "code",
   "execution_count": 2,
   "metadata": {
    "collapsed": false
   },
   "outputs": [
    {
     "name": "stderr",
     "output_type": "stream",
     "text": [
      "/opt/conda/lib/python3.5/site-packages/IPython/core/interactiveshell.py:2717: DtypeWarning: Columns (11,12,31) have mixed types. Specify dtype option on import or set low_memory=False.\n",
      "  interactivity=interactivity, compiler=compiler, result=result)\n"
     ]
    }
   ],
   "source": [
    "train= pd.read_csv('train.csv', encoding='iso-8859-1')\n",
    "test= pd.read_csv('test.csv', encoding='iso-8859-1')\n"
   ]
  },
  {
   "cell_type": "code",
   "execution_count": 3,
   "metadata": {
    "collapsed": false
   },
   "outputs": [
    {
     "data": {
      "text/html": [
       "<div>\n",
       "<table border=\"1\" class=\"dataframe\">\n",
       "  <thead>\n",
       "    <tr style=\"text-align: right;\">\n",
       "      <th></th>\n",
       "      <th>ticket_id</th>\n",
       "      <th>agency_name</th>\n",
       "      <th>inspector_name</th>\n",
       "      <th>violator_name</th>\n",
       "      <th>violation_street_number</th>\n",
       "      <th>violation_street_name</th>\n",
       "      <th>violation_zip_code</th>\n",
       "      <th>mailing_address_str_number</th>\n",
       "      <th>mailing_address_str_name</th>\n",
       "      <th>city</th>\n",
       "      <th>...</th>\n",
       "      <th>clean_up_cost</th>\n",
       "      <th>judgment_amount</th>\n",
       "      <th>payment_amount</th>\n",
       "      <th>balance_due</th>\n",
       "      <th>payment_date</th>\n",
       "      <th>payment_status</th>\n",
       "      <th>collection_status</th>\n",
       "      <th>grafitti_status</th>\n",
       "      <th>compliance_detail</th>\n",
       "      <th>compliance</th>\n",
       "    </tr>\n",
       "  </thead>\n",
       "  <tbody>\n",
       "    <tr>\n",
       "      <th>0</th>\n",
       "      <td>22056</td>\n",
       "      <td>Buildings, Safety Engineering &amp; Env Department</td>\n",
       "      <td>Sims, Martinzie</td>\n",
       "      <td>INVESTMENT INC., MIDWEST MORTGAGE</td>\n",
       "      <td>2900.0</td>\n",
       "      <td>TYLER</td>\n",
       "      <td>NaN</td>\n",
       "      <td>3.0</td>\n",
       "      <td>S. WICKER</td>\n",
       "      <td>CHICAGO</td>\n",
       "      <td>...</td>\n",
       "      <td>0.0</td>\n",
       "      <td>305.0</td>\n",
       "      <td>0.0</td>\n",
       "      <td>305.0</td>\n",
       "      <td>NaN</td>\n",
       "      <td>NO PAYMENT APPLIED</td>\n",
       "      <td>NaN</td>\n",
       "      <td>NaN</td>\n",
       "      <td>non-compliant by no payment</td>\n",
       "      <td>0.0</td>\n",
       "    </tr>\n",
       "    <tr>\n",
       "      <th>1</th>\n",
       "      <td>27586</td>\n",
       "      <td>Buildings, Safety Engineering &amp; Env Department</td>\n",
       "      <td>Williams, Darrin</td>\n",
       "      <td>Michigan, Covenant House</td>\n",
       "      <td>4311.0</td>\n",
       "      <td>CENTRAL</td>\n",
       "      <td>NaN</td>\n",
       "      <td>2959.0</td>\n",
       "      <td>Martin Luther King</td>\n",
       "      <td>Detroit</td>\n",
       "      <td>...</td>\n",
       "      <td>0.0</td>\n",
       "      <td>855.0</td>\n",
       "      <td>780.0</td>\n",
       "      <td>75.0</td>\n",
       "      <td>2005-06-02 00:00:00</td>\n",
       "      <td>PAID IN FULL</td>\n",
       "      <td>NaN</td>\n",
       "      <td>NaN</td>\n",
       "      <td>compliant by late payment within 1 month</td>\n",
       "      <td>1.0</td>\n",
       "    </tr>\n",
       "  </tbody>\n",
       "</table>\n",
       "<p>2 rows × 34 columns</p>\n",
       "</div>"
      ],
      "text/plain": [
       "   ticket_id                                     agency_name  \\\n",
       "0      22056  Buildings, Safety Engineering & Env Department   \n",
       "1      27586  Buildings, Safety Engineering & Env Department   \n",
       "\n",
       "     inspector_name                      violator_name  \\\n",
       "0   Sims, Martinzie  INVESTMENT INC., MIDWEST MORTGAGE   \n",
       "1  Williams, Darrin           Michigan, Covenant House   \n",
       "\n",
       "   violation_street_number violation_street_name  violation_zip_code  \\\n",
       "0                   2900.0                 TYLER                 NaN   \n",
       "1                   4311.0               CENTRAL                 NaN   \n",
       "\n",
       "   mailing_address_str_number mailing_address_str_name     city     ...      \\\n",
       "0                         3.0                S. WICKER  CHICAGO     ...       \n",
       "1                      2959.0       Martin Luther King  Detroit     ...       \n",
       "\n",
       "  clean_up_cost judgment_amount payment_amount balance_due  \\\n",
       "0           0.0           305.0            0.0       305.0   \n",
       "1           0.0           855.0          780.0        75.0   \n",
       "\n",
       "          payment_date      payment_status collection_status grafitti_status  \\\n",
       "0                  NaN  NO PAYMENT APPLIED               NaN             NaN   \n",
       "1  2005-06-02 00:00:00        PAID IN FULL               NaN             NaN   \n",
       "\n",
       "                          compliance_detail  compliance  \n",
       "0               non-compliant by no payment         0.0  \n",
       "1  compliant by late payment within 1 month         1.0  \n",
       "\n",
       "[2 rows x 34 columns]"
      ]
     },
     "execution_count": 3,
     "metadata": {},
     "output_type": "execute_result"
    }
   ],
   "source": [
    "train.head(2)"
   ]
  },
  {
   "cell_type": "code",
   "execution_count": 4,
   "metadata": {
    "collapsed": false
   },
   "outputs": [],
   "source": [
    "address=pd.read_csv('addresses.csv')\n",
    "latlons=pd.read_csv('latlons.csv')"
   ]
  },
  {
   "cell_type": "code",
   "execution_count": 5,
   "metadata": {
    "collapsed": false
   },
   "outputs": [
    {
     "data": {
      "text/html": [
       "<div>\n",
       "<table border=\"1\" class=\"dataframe\">\n",
       "  <thead>\n",
       "    <tr style=\"text-align: right;\">\n",
       "      <th></th>\n",
       "      <th>ticket_id</th>\n",
       "      <th>address</th>\n",
       "    </tr>\n",
       "  </thead>\n",
       "  <tbody>\n",
       "    <tr>\n",
       "      <th>0</th>\n",
       "      <td>22056</td>\n",
       "      <td>2900 tyler, Detroit MI</td>\n",
       "    </tr>\n",
       "    <tr>\n",
       "      <th>1</th>\n",
       "      <td>27586</td>\n",
       "      <td>4311 central, Detroit MI</td>\n",
       "    </tr>\n",
       "  </tbody>\n",
       "</table>\n",
       "</div>"
      ],
      "text/plain": [
       "   ticket_id                   address\n",
       "0      22056    2900 tyler, Detroit MI\n",
       "1      27586  4311 central, Detroit MI"
      ]
     },
     "execution_count": 5,
     "metadata": {},
     "output_type": "execute_result"
    }
   ],
   "source": [
    "address.head(2)"
   ]
  },
  {
   "cell_type": "code",
   "execution_count": 6,
   "metadata": {
    "collapsed": false
   },
   "outputs": [
    {
     "data": {
      "text/html": [
       "<div>\n",
       "<table border=\"1\" class=\"dataframe\">\n",
       "  <thead>\n",
       "    <tr style=\"text-align: right;\">\n",
       "      <th></th>\n",
       "      <th>address</th>\n",
       "      <th>lat</th>\n",
       "      <th>lon</th>\n",
       "    </tr>\n",
       "  </thead>\n",
       "  <tbody>\n",
       "    <tr>\n",
       "      <th>0</th>\n",
       "      <td>4300 rosa parks blvd, Detroit MI 48208</td>\n",
       "      <td>42.346169</td>\n",
       "      <td>-83.079962</td>\n",
       "    </tr>\n",
       "    <tr>\n",
       "      <th>1</th>\n",
       "      <td>14512 sussex, Detroit MI</td>\n",
       "      <td>42.394657</td>\n",
       "      <td>-83.194265</td>\n",
       "    </tr>\n",
       "  </tbody>\n",
       "</table>\n",
       "</div>"
      ],
      "text/plain": [
       "                                  address        lat        lon\n",
       "0  4300 rosa parks blvd, Detroit MI 48208  42.346169 -83.079962\n",
       "1                14512 sussex, Detroit MI  42.394657 -83.194265"
      ]
     },
     "execution_count": 6,
     "metadata": {},
     "output_type": "execute_result"
    }
   ],
   "source": [
    "latlons.head(2)"
   ]
  },
  {
   "cell_type": "code",
   "execution_count": 7,
   "metadata": {
    "collapsed": false
   },
   "outputs": [],
   "source": [
    "Merged=address.merge(latlons, on='address')"
   ]
  },
  {
   "cell_type": "code",
   "execution_count": 8,
   "metadata": {
    "collapsed": false
   },
   "outputs": [
    {
     "data": {
      "text/html": [
       "<div>\n",
       "<table border=\"1\" class=\"dataframe\">\n",
       "  <thead>\n",
       "    <tr style=\"text-align: right;\">\n",
       "      <th></th>\n",
       "      <th>ticket_id</th>\n",
       "      <th>address</th>\n",
       "      <th>lat</th>\n",
       "      <th>lon</th>\n",
       "    </tr>\n",
       "  </thead>\n",
       "  <tbody>\n",
       "    <tr>\n",
       "      <th>0</th>\n",
       "      <td>22056</td>\n",
       "      <td>2900 tyler, Detroit MI</td>\n",
       "      <td>42.390729</td>\n",
       "      <td>-83.124268</td>\n",
       "    </tr>\n",
       "    <tr>\n",
       "      <th>1</th>\n",
       "      <td>77242</td>\n",
       "      <td>2900 tyler, Detroit MI</td>\n",
       "      <td>42.390729</td>\n",
       "      <td>-83.124268</td>\n",
       "    </tr>\n",
       "  </tbody>\n",
       "</table>\n",
       "</div>"
      ],
      "text/plain": [
       "   ticket_id                 address        lat        lon\n",
       "0      22056  2900 tyler, Detroit MI  42.390729 -83.124268\n",
       "1      77242  2900 tyler, Detroit MI  42.390729 -83.124268"
      ]
     },
     "execution_count": 8,
     "metadata": {},
     "output_type": "execute_result"
    }
   ],
   "source": [
    "Merged.head(2)"
   ]
  },
  {
   "cell_type": "code",
   "execution_count": 9,
   "metadata": {
    "collapsed": false
   },
   "outputs": [],
   "source": [
    "Merged=Merged.set_index('ticket_id')"
   ]
  },
  {
   "cell_type": "raw",
   "metadata": {
    "collapsed": true
   },
   "source": [
    "\n",
    "\n"
   ]
  },
  {
   "cell_type": "code",
   "execution_count": 10,
   "metadata": {
    "collapsed": false
   },
   "outputs": [
    {
     "data": {
      "text/html": [
       "<div>\n",
       "<table border=\"1\" class=\"dataframe\">\n",
       "  <thead>\n",
       "    <tr style=\"text-align: right;\">\n",
       "      <th></th>\n",
       "      <th>address</th>\n",
       "      <th>lat</th>\n",
       "      <th>lon</th>\n",
       "    </tr>\n",
       "    <tr>\n",
       "      <th>ticket_id</th>\n",
       "      <th></th>\n",
       "      <th></th>\n",
       "      <th></th>\n",
       "    </tr>\n",
       "  </thead>\n",
       "  <tbody>\n",
       "    <tr>\n",
       "      <th>22056</th>\n",
       "      <td>2900 tyler, Detroit MI</td>\n",
       "      <td>42.390729</td>\n",
       "      <td>-83.124268</td>\n",
       "    </tr>\n",
       "    <tr>\n",
       "      <th>77242</th>\n",
       "      <td>2900 tyler, Detroit MI</td>\n",
       "      <td>42.390729</td>\n",
       "      <td>-83.124268</td>\n",
       "    </tr>\n",
       "  </tbody>\n",
       "</table>\n",
       "</div>"
      ],
      "text/plain": [
       "                          address        lat        lon\n",
       "ticket_id                                              \n",
       "22056      2900 tyler, Detroit MI  42.390729 -83.124268\n",
       "77242      2900 tyler, Detroit MI  42.390729 -83.124268"
      ]
     },
     "execution_count": 10,
     "metadata": {},
     "output_type": "execute_result"
    }
   ],
   "source": [
    "Merged.head(2)"
   ]
  },
  {
   "cell_type": "code",
   "execution_count": 11,
   "metadata": {
    "collapsed": false
   },
   "outputs": [
    {
     "data": {
      "text/html": [
       "<div>\n",
       "<table border=\"1\" class=\"dataframe\">\n",
       "  <thead>\n",
       "    <tr style=\"text-align: right;\">\n",
       "      <th></th>\n",
       "      <th>ticket_id</th>\n",
       "      <th>agency_name</th>\n",
       "      <th>inspector_name</th>\n",
       "      <th>violator_name</th>\n",
       "      <th>violation_street_number</th>\n",
       "      <th>violation_street_name</th>\n",
       "      <th>violation_zip_code</th>\n",
       "      <th>mailing_address_str_number</th>\n",
       "      <th>mailing_address_str_name</th>\n",
       "      <th>city</th>\n",
       "      <th>...</th>\n",
       "      <th>clean_up_cost</th>\n",
       "      <th>judgment_amount</th>\n",
       "      <th>payment_amount</th>\n",
       "      <th>balance_due</th>\n",
       "      <th>payment_date</th>\n",
       "      <th>payment_status</th>\n",
       "      <th>collection_status</th>\n",
       "      <th>grafitti_status</th>\n",
       "      <th>compliance_detail</th>\n",
       "      <th>compliance</th>\n",
       "    </tr>\n",
       "  </thead>\n",
       "  <tbody>\n",
       "    <tr>\n",
       "      <th>0</th>\n",
       "      <td>22056</td>\n",
       "      <td>Buildings, Safety Engineering &amp; Env Department</td>\n",
       "      <td>Sims, Martinzie</td>\n",
       "      <td>INVESTMENT INC., MIDWEST MORTGAGE</td>\n",
       "      <td>2900.0</td>\n",
       "      <td>TYLER</td>\n",
       "      <td>NaN</td>\n",
       "      <td>3.0</td>\n",
       "      <td>S. WICKER</td>\n",
       "      <td>CHICAGO</td>\n",
       "      <td>...</td>\n",
       "      <td>0.0</td>\n",
       "      <td>305.0</td>\n",
       "      <td>0.0</td>\n",
       "      <td>305.0</td>\n",
       "      <td>NaN</td>\n",
       "      <td>NO PAYMENT APPLIED</td>\n",
       "      <td>NaN</td>\n",
       "      <td>NaN</td>\n",
       "      <td>non-compliant by no payment</td>\n",
       "      <td>0.0</td>\n",
       "    </tr>\n",
       "    <tr>\n",
       "      <th>1</th>\n",
       "      <td>27586</td>\n",
       "      <td>Buildings, Safety Engineering &amp; Env Department</td>\n",
       "      <td>Williams, Darrin</td>\n",
       "      <td>Michigan, Covenant House</td>\n",
       "      <td>4311.0</td>\n",
       "      <td>CENTRAL</td>\n",
       "      <td>NaN</td>\n",
       "      <td>2959.0</td>\n",
       "      <td>Martin Luther King</td>\n",
       "      <td>Detroit</td>\n",
       "      <td>...</td>\n",
       "      <td>0.0</td>\n",
       "      <td>855.0</td>\n",
       "      <td>780.0</td>\n",
       "      <td>75.0</td>\n",
       "      <td>2005-06-02 00:00:00</td>\n",
       "      <td>PAID IN FULL</td>\n",
       "      <td>NaN</td>\n",
       "      <td>NaN</td>\n",
       "      <td>compliant by late payment within 1 month</td>\n",
       "      <td>1.0</td>\n",
       "    </tr>\n",
       "  </tbody>\n",
       "</table>\n",
       "<p>2 rows × 34 columns</p>\n",
       "</div>"
      ],
      "text/plain": [
       "   ticket_id                                     agency_name  \\\n",
       "0      22056  Buildings, Safety Engineering & Env Department   \n",
       "1      27586  Buildings, Safety Engineering & Env Department   \n",
       "\n",
       "     inspector_name                      violator_name  \\\n",
       "0   Sims, Martinzie  INVESTMENT INC., MIDWEST MORTGAGE   \n",
       "1  Williams, Darrin           Michigan, Covenant House   \n",
       "\n",
       "   violation_street_number violation_street_name  violation_zip_code  \\\n",
       "0                   2900.0                 TYLER                 NaN   \n",
       "1                   4311.0               CENTRAL                 NaN   \n",
       "\n",
       "   mailing_address_str_number mailing_address_str_name     city     ...      \\\n",
       "0                         3.0                S. WICKER  CHICAGO     ...       \n",
       "1                      2959.0       Martin Luther King  Detroit     ...       \n",
       "\n",
       "  clean_up_cost judgment_amount payment_amount balance_due  \\\n",
       "0           0.0           305.0            0.0       305.0   \n",
       "1           0.0           855.0          780.0        75.0   \n",
       "\n",
       "          payment_date      payment_status collection_status grafitti_status  \\\n",
       "0                  NaN  NO PAYMENT APPLIED               NaN             NaN   \n",
       "1  2005-06-02 00:00:00        PAID IN FULL               NaN             NaN   \n",
       "\n",
       "                          compliance_detail  compliance  \n",
       "0               non-compliant by no payment         0.0  \n",
       "1  compliant by late payment within 1 month         1.0  \n",
       "\n",
       "[2 rows x 34 columns]"
      ]
     },
     "execution_count": 11,
     "metadata": {},
     "output_type": "execute_result"
    }
   ],
   "source": [
    "train.head(2)"
   ]
  },
  {
   "cell_type": "raw",
   "metadata": {},
   "source": []
  },
  {
   "cell_type": "code",
   "execution_count": 12,
   "metadata": {
    "collapsed": false
   },
   "outputs": [],
   "source": [
    "train=train.set_index('ticket_id')"
   ]
  },
  {
   "cell_type": "code",
   "execution_count": 13,
   "metadata": {
    "collapsed": false
   },
   "outputs": [],
   "source": [
    "test=test.set_index('ticket_id')"
   ]
  },
  {
   "cell_type": "code",
   "execution_count": 14,
   "metadata": {
    "collapsed": false
   },
   "outputs": [
    {
     "data": {
      "text/html": [
       "<div>\n",
       "<table border=\"1\" class=\"dataframe\">\n",
       "  <thead>\n",
       "    <tr style=\"text-align: right;\">\n",
       "      <th></th>\n",
       "      <th>agency_name</th>\n",
       "      <th>inspector_name</th>\n",
       "      <th>violator_name</th>\n",
       "      <th>violation_street_number</th>\n",
       "      <th>violation_street_name</th>\n",
       "      <th>violation_zip_code</th>\n",
       "      <th>mailing_address_str_number</th>\n",
       "      <th>mailing_address_str_name</th>\n",
       "      <th>city</th>\n",
       "      <th>state</th>\n",
       "      <th>...</th>\n",
       "      <th>violation_description</th>\n",
       "      <th>disposition</th>\n",
       "      <th>fine_amount</th>\n",
       "      <th>admin_fee</th>\n",
       "      <th>state_fee</th>\n",
       "      <th>late_fee</th>\n",
       "      <th>discount_amount</th>\n",
       "      <th>clean_up_cost</th>\n",
       "      <th>judgment_amount</th>\n",
       "      <th>grafitti_status</th>\n",
       "    </tr>\n",
       "    <tr>\n",
       "      <th>ticket_id</th>\n",
       "      <th></th>\n",
       "      <th></th>\n",
       "      <th></th>\n",
       "      <th></th>\n",
       "      <th></th>\n",
       "      <th></th>\n",
       "      <th></th>\n",
       "      <th></th>\n",
       "      <th></th>\n",
       "      <th></th>\n",
       "      <th></th>\n",
       "      <th></th>\n",
       "      <th></th>\n",
       "      <th></th>\n",
       "      <th></th>\n",
       "      <th></th>\n",
       "      <th></th>\n",
       "      <th></th>\n",
       "      <th></th>\n",
       "      <th></th>\n",
       "      <th></th>\n",
       "    </tr>\n",
       "  </thead>\n",
       "  <tbody>\n",
       "    <tr>\n",
       "      <th>284932</th>\n",
       "      <td>Department of Public Works</td>\n",
       "      <td>Granberry, Aisha B</td>\n",
       "      <td>FLUELLEN, JOHN A</td>\n",
       "      <td>10041.0</td>\n",
       "      <td>ROSEBERRY</td>\n",
       "      <td>NaN</td>\n",
       "      <td>141</td>\n",
       "      <td>ROSEBERRY</td>\n",
       "      <td>DETROIT</td>\n",
       "      <td>MI</td>\n",
       "      <td>...</td>\n",
       "      <td>Failure to secure City or Private solid waste ...</td>\n",
       "      <td>Responsible by Default</td>\n",
       "      <td>200.0</td>\n",
       "      <td>20.0</td>\n",
       "      <td>10.0</td>\n",
       "      <td>20.0</td>\n",
       "      <td>0.0</td>\n",
       "      <td>0.0</td>\n",
       "      <td>250.0</td>\n",
       "      <td>NaN</td>\n",
       "    </tr>\n",
       "    <tr>\n",
       "      <th>285362</th>\n",
       "      <td>Department of Public Works</td>\n",
       "      <td>Lusk, Gertrina</td>\n",
       "      <td>WHIGHAM, THELMA</td>\n",
       "      <td>18520.0</td>\n",
       "      <td>EVERGREEN</td>\n",
       "      <td>NaN</td>\n",
       "      <td>19136</td>\n",
       "      <td>GLASTONBURY</td>\n",
       "      <td>DETROIT</td>\n",
       "      <td>MI</td>\n",
       "      <td>...</td>\n",
       "      <td>Allowing bulk solid waste to lie or accumulate...</td>\n",
       "      <td>Responsible by Default</td>\n",
       "      <td>1000.0</td>\n",
       "      <td>20.0</td>\n",
       "      <td>10.0</td>\n",
       "      <td>100.0</td>\n",
       "      <td>0.0</td>\n",
       "      <td>0.0</td>\n",
       "      <td>1130.0</td>\n",
       "      <td>NaN</td>\n",
       "    </tr>\n",
       "  </tbody>\n",
       "</table>\n",
       "<p>2 rows × 26 columns</p>\n",
       "</div>"
      ],
      "text/plain": [
       "                          agency_name      inspector_name     violator_name  \\\n",
       "ticket_id                                                                     \n",
       "284932     Department of Public Works  Granberry, Aisha B  FLUELLEN, JOHN A   \n",
       "285362     Department of Public Works      Lusk, Gertrina   WHIGHAM, THELMA   \n",
       "\n",
       "           violation_street_number violation_street_name violation_zip_code  \\\n",
       "ticket_id                                                                     \n",
       "284932                     10041.0             ROSEBERRY                NaN   \n",
       "285362                     18520.0             EVERGREEN                NaN   \n",
       "\n",
       "          mailing_address_str_number mailing_address_str_name     city state  \\\n",
       "ticket_id                                                                      \n",
       "284932                           141                ROSEBERRY  DETROIT    MI   \n",
       "285362                         19136              GLASTONBURY  DETROIT    MI   \n",
       "\n",
       "                ...                                     violation_description  \\\n",
       "ticket_id       ...                                                             \n",
       "284932          ...         Failure to secure City or Private solid waste ...   \n",
       "285362          ...         Allowing bulk solid waste to lie or accumulate...   \n",
       "\n",
       "                      disposition fine_amount admin_fee state_fee late_fee  \\\n",
       "ticket_id                                                                    \n",
       "284932     Responsible by Default       200.0      20.0      10.0     20.0   \n",
       "285362     Responsible by Default      1000.0      20.0      10.0    100.0   \n",
       "\n",
       "          discount_amount clean_up_cost  judgment_amount  grafitti_status  \n",
       "ticket_id                                                                  \n",
       "284932                0.0           0.0            250.0              NaN  \n",
       "285362                0.0           0.0           1130.0              NaN  \n",
       "\n",
       "[2 rows x 26 columns]"
      ]
     },
     "execution_count": 14,
     "metadata": {},
     "output_type": "execute_result"
    }
   ],
   "source": [
    "test.head(2)"
   ]
  },
  {
   "cell_type": "code",
   "execution_count": 15,
   "metadata": {
    "collapsed": false
   },
   "outputs": [
    {
     "data": {
      "text/plain": [
       "Index(['agency_name', 'inspector_name', 'violator_name',\n",
       "       'violation_street_number', 'violation_street_name',\n",
       "       'violation_zip_code', 'mailing_address_str_number',\n",
       "       'mailing_address_str_name', 'city', 'state', 'zip_code',\n",
       "       'non_us_str_code', 'country', 'ticket_issued_date', 'hearing_date',\n",
       "       'violation_code', 'violation_description', 'disposition', 'fine_amount',\n",
       "       'admin_fee', 'state_fee', 'late_fee', 'discount_amount',\n",
       "       'clean_up_cost', 'judgment_amount', 'payment_amount', 'balance_due',\n",
       "       'payment_date', 'payment_status', 'collection_status',\n",
       "       'grafitti_status', 'compliance_detail', 'compliance'],\n",
       "      dtype='object')"
      ]
     },
     "execution_count": 15,
     "metadata": {},
     "output_type": "execute_result"
    }
   ],
   "source": [
    "train.columns"
   ]
  },
  {
   "cell_type": "code",
   "execution_count": 16,
   "metadata": {
    "collapsed": false
   },
   "outputs": [
    {
     "data": {
      "text/plain": [
       "Index(['agency_name', 'inspector_name', 'violator_name',\n",
       "       'violation_street_number', 'violation_street_name',\n",
       "       'violation_zip_code', 'mailing_address_str_number',\n",
       "       'mailing_address_str_name', 'city', 'state', 'zip_code',\n",
       "       'non_us_str_code', 'country', 'ticket_issued_date', 'hearing_date',\n",
       "       'violation_code', 'violation_description', 'disposition', 'fine_amount',\n",
       "       'admin_fee', 'state_fee', 'late_fee', 'discount_amount',\n",
       "       'clean_up_cost', 'judgment_amount', 'grafitti_status'],\n",
       "      dtype='object')"
      ]
     },
     "execution_count": 16,
     "metadata": {},
     "output_type": "execute_result"
    }
   ],
   "source": [
    "test.columns"
   ]
  },
  {
   "cell_type": "code",
   "execution_count": 17,
   "metadata": {
    "collapsed": true
   },
   "outputs": [],
   "source": [
    "train=train.dropna(subset=['compliance'])"
   ]
  },
  {
   "cell_type": "raw",
   "metadata": {
    "collapsed": false
   },
   "source": []
  },
  {
   "cell_type": "code",
   "execution_count": 18,
   "metadata": {
    "collapsed": false
   },
   "outputs": [
    {
     "data": {
      "text/plain": [
       "(159880, 33)"
      ]
     },
     "execution_count": 18,
     "metadata": {},
     "output_type": "execute_result"
    }
   ],
   "source": [
    "train.shape"
   ]
  },
  {
   "cell_type": "code",
   "execution_count": 19,
   "metadata": {
    "collapsed": false
   },
   "outputs": [
    {
     "data": {
      "text/html": [
       "<div>\n",
       "<table border=\"1\" class=\"dataframe\">\n",
       "  <thead>\n",
       "    <tr style=\"text-align: right;\">\n",
       "      <th></th>\n",
       "      <th>agency_name</th>\n",
       "      <th>inspector_name</th>\n",
       "      <th>violator_name</th>\n",
       "      <th>violation_street_number</th>\n",
       "      <th>violation_street_name</th>\n",
       "      <th>violation_zip_code</th>\n",
       "      <th>mailing_address_str_number</th>\n",
       "      <th>mailing_address_str_name</th>\n",
       "      <th>city</th>\n",
       "      <th>state</th>\n",
       "      <th>...</th>\n",
       "      <th>clean_up_cost</th>\n",
       "      <th>judgment_amount</th>\n",
       "      <th>payment_amount</th>\n",
       "      <th>balance_due</th>\n",
       "      <th>payment_date</th>\n",
       "      <th>payment_status</th>\n",
       "      <th>collection_status</th>\n",
       "      <th>grafitti_status</th>\n",
       "      <th>compliance_detail</th>\n",
       "      <th>compliance</th>\n",
       "    </tr>\n",
       "    <tr>\n",
       "      <th>ticket_id</th>\n",
       "      <th></th>\n",
       "      <th></th>\n",
       "      <th></th>\n",
       "      <th></th>\n",
       "      <th></th>\n",
       "      <th></th>\n",
       "      <th></th>\n",
       "      <th></th>\n",
       "      <th></th>\n",
       "      <th></th>\n",
       "      <th></th>\n",
       "      <th></th>\n",
       "      <th></th>\n",
       "      <th></th>\n",
       "      <th></th>\n",
       "      <th></th>\n",
       "      <th></th>\n",
       "      <th></th>\n",
       "      <th></th>\n",
       "      <th></th>\n",
       "      <th></th>\n",
       "    </tr>\n",
       "  </thead>\n",
       "  <tbody>\n",
       "    <tr>\n",
       "      <th>22056</th>\n",
       "      <td>Buildings, Safety Engineering &amp; Env Department</td>\n",
       "      <td>Sims, Martinzie</td>\n",
       "      <td>INVESTMENT INC., MIDWEST MORTGAGE</td>\n",
       "      <td>2900.0</td>\n",
       "      <td>TYLER</td>\n",
       "      <td>NaN</td>\n",
       "      <td>3.0</td>\n",
       "      <td>S. WICKER</td>\n",
       "      <td>CHICAGO</td>\n",
       "      <td>IL</td>\n",
       "      <td>...</td>\n",
       "      <td>0.0</td>\n",
       "      <td>305.0</td>\n",
       "      <td>0.0</td>\n",
       "      <td>305.0</td>\n",
       "      <td>NaN</td>\n",
       "      <td>NO PAYMENT APPLIED</td>\n",
       "      <td>NaN</td>\n",
       "      <td>NaN</td>\n",
       "      <td>non-compliant by no payment</td>\n",
       "      <td>0.0</td>\n",
       "    </tr>\n",
       "    <tr>\n",
       "      <th>27586</th>\n",
       "      <td>Buildings, Safety Engineering &amp; Env Department</td>\n",
       "      <td>Williams, Darrin</td>\n",
       "      <td>Michigan, Covenant House</td>\n",
       "      <td>4311.0</td>\n",
       "      <td>CENTRAL</td>\n",
       "      <td>NaN</td>\n",
       "      <td>2959.0</td>\n",
       "      <td>Martin Luther King</td>\n",
       "      <td>Detroit</td>\n",
       "      <td>MI</td>\n",
       "      <td>...</td>\n",
       "      <td>0.0</td>\n",
       "      <td>855.0</td>\n",
       "      <td>780.0</td>\n",
       "      <td>75.0</td>\n",
       "      <td>2005-06-02 00:00:00</td>\n",
       "      <td>PAID IN FULL</td>\n",
       "      <td>NaN</td>\n",
       "      <td>NaN</td>\n",
       "      <td>compliant by late payment within 1 month</td>\n",
       "      <td>1.0</td>\n",
       "    </tr>\n",
       "  </tbody>\n",
       "</table>\n",
       "<p>2 rows × 33 columns</p>\n",
       "</div>"
      ],
      "text/plain": [
       "                                              agency_name    inspector_name  \\\n",
       "ticket_id                                                                     \n",
       "22056      Buildings, Safety Engineering & Env Department   Sims, Martinzie   \n",
       "27586      Buildings, Safety Engineering & Env Department  Williams, Darrin   \n",
       "\n",
       "                               violator_name  violation_street_number  \\\n",
       "ticket_id                                                               \n",
       "22056      INVESTMENT INC., MIDWEST MORTGAGE                   2900.0   \n",
       "27586               Michigan, Covenant House                   4311.0   \n",
       "\n",
       "          violation_street_name  violation_zip_code  \\\n",
       "ticket_id                                             \n",
       "22056                     TYLER                 NaN   \n",
       "27586                   CENTRAL                 NaN   \n",
       "\n",
       "           mailing_address_str_number mailing_address_str_name     city state  \\\n",
       "ticket_id                                                                       \n",
       "22056                             3.0                S. WICKER  CHICAGO    IL   \n",
       "27586                          2959.0       Martin Luther King  Detroit    MI   \n",
       "\n",
       "              ...     clean_up_cost judgment_amount payment_amount  \\\n",
       "ticket_id     ...                                                    \n",
       "22056         ...               0.0           305.0            0.0   \n",
       "27586         ...               0.0           855.0          780.0   \n",
       "\n",
       "          balance_due         payment_date      payment_status  \\\n",
       "ticket_id                                                        \n",
       "22056           305.0                  NaN  NO PAYMENT APPLIED   \n",
       "27586            75.0  2005-06-02 00:00:00        PAID IN FULL   \n",
       "\n",
       "          collection_status grafitti_status  \\\n",
       "ticket_id                                     \n",
       "22056                   NaN             NaN   \n",
       "27586                   NaN             NaN   \n",
       "\n",
       "                                  compliance_detail  compliance  \n",
       "ticket_id                                                        \n",
       "22056                   non-compliant by no payment         0.0  \n",
       "27586      compliant by late payment within 1 month         1.0  \n",
       "\n",
       "[2 rows x 33 columns]"
      ]
     },
     "execution_count": 19,
     "metadata": {},
     "output_type": "execute_result"
    }
   ],
   "source": [
    "train.head(2)"
   ]
  },
  {
   "cell_type": "code",
   "execution_count": 20,
   "metadata": {
    "collapsed": false
   },
   "outputs": [
    {
     "data": {
      "text/html": [
       "<div>\n",
       "<table border=\"1\" class=\"dataframe\">\n",
       "  <thead>\n",
       "    <tr style=\"text-align: right;\">\n",
       "      <th></th>\n",
       "      <th>agency_name</th>\n",
       "      <th>inspector_name</th>\n",
       "      <th>violator_name</th>\n",
       "      <th>violation_street_number</th>\n",
       "      <th>violation_street_name</th>\n",
       "      <th>violation_zip_code</th>\n",
       "      <th>mailing_address_str_number</th>\n",
       "      <th>mailing_address_str_name</th>\n",
       "      <th>city</th>\n",
       "      <th>state</th>\n",
       "      <th>...</th>\n",
       "      <th>clean_up_cost</th>\n",
       "      <th>judgment_amount</th>\n",
       "      <th>payment_amount</th>\n",
       "      <th>balance_due</th>\n",
       "      <th>payment_date</th>\n",
       "      <th>payment_status</th>\n",
       "      <th>collection_status</th>\n",
       "      <th>grafitti_status</th>\n",
       "      <th>compliance_detail</th>\n",
       "      <th>compliance</th>\n",
       "    </tr>\n",
       "    <tr>\n",
       "      <th>ticket_id</th>\n",
       "      <th></th>\n",
       "      <th></th>\n",
       "      <th></th>\n",
       "      <th></th>\n",
       "      <th></th>\n",
       "      <th></th>\n",
       "      <th></th>\n",
       "      <th></th>\n",
       "      <th></th>\n",
       "      <th></th>\n",
       "      <th></th>\n",
       "      <th></th>\n",
       "      <th></th>\n",
       "      <th></th>\n",
       "      <th></th>\n",
       "      <th></th>\n",
       "      <th></th>\n",
       "      <th></th>\n",
       "      <th></th>\n",
       "      <th></th>\n",
       "      <th></th>\n",
       "    </tr>\n",
       "  </thead>\n",
       "  <tbody>\n",
       "    <tr>\n",
       "      <th>22056</th>\n",
       "      <td>Buildings, Safety Engineering &amp; Env Department</td>\n",
       "      <td>Sims, Martinzie</td>\n",
       "      <td>INVESTMENT INC., MIDWEST MORTGAGE</td>\n",
       "      <td>2900.0</td>\n",
       "      <td>TYLER</td>\n",
       "      <td>NaN</td>\n",
       "      <td>3.0</td>\n",
       "      <td>S. WICKER</td>\n",
       "      <td>CHICAGO</td>\n",
       "      <td>IL</td>\n",
       "      <td>...</td>\n",
       "      <td>0.0</td>\n",
       "      <td>305.0</td>\n",
       "      <td>0.0</td>\n",
       "      <td>305.0</td>\n",
       "      <td>NaN</td>\n",
       "      <td>NO PAYMENT APPLIED</td>\n",
       "      <td>NaN</td>\n",
       "      <td>NaN</td>\n",
       "      <td>non-compliant by no payment</td>\n",
       "      <td>0.0</td>\n",
       "    </tr>\n",
       "  </tbody>\n",
       "</table>\n",
       "<p>1 rows × 33 columns</p>\n",
       "</div>"
      ],
      "text/plain": [
       "                                              agency_name   inspector_name  \\\n",
       "ticket_id                                                                    \n",
       "22056      Buildings, Safety Engineering & Env Department  Sims, Martinzie   \n",
       "\n",
       "                               violator_name  violation_street_number  \\\n",
       "ticket_id                                                               \n",
       "22056      INVESTMENT INC., MIDWEST MORTGAGE                   2900.0   \n",
       "\n",
       "          violation_street_name  violation_zip_code  \\\n",
       "ticket_id                                             \n",
       "22056                     TYLER                 NaN   \n",
       "\n",
       "           mailing_address_str_number mailing_address_str_name     city state  \\\n",
       "ticket_id                                                                       \n",
       "22056                             3.0                S. WICKER  CHICAGO    IL   \n",
       "\n",
       "              ...     clean_up_cost judgment_amount payment_amount  \\\n",
       "ticket_id     ...                                                    \n",
       "22056         ...               0.0           305.0            0.0   \n",
       "\n",
       "          balance_due payment_date      payment_status collection_status  \\\n",
       "ticket_id                                                                  \n",
       "22056           305.0          NaN  NO PAYMENT APPLIED               NaN   \n",
       "\n",
       "          grafitti_status            compliance_detail  compliance  \n",
       "ticket_id                                                           \n",
       "22056                 NaN  non-compliant by no payment         0.0  \n",
       "\n",
       "[1 rows x 33 columns]"
      ]
     },
     "execution_count": 20,
     "metadata": {},
     "output_type": "execute_result"
    }
   ],
   "source": [
    "train.head(1\n",
    ")"
   ]
  },
  {
   "cell_type": "code",
   "execution_count": 21,
   "metadata": {
    "collapsed": false
   },
   "outputs": [
    {
     "data": {
      "text/html": [
       "<div>\n",
       "<table border=\"1\" class=\"dataframe\">\n",
       "  <thead>\n",
       "    <tr style=\"text-align: right;\">\n",
       "      <th></th>\n",
       "      <th>address</th>\n",
       "      <th>lat</th>\n",
       "      <th>lon</th>\n",
       "    </tr>\n",
       "    <tr>\n",
       "      <th>ticket_id</th>\n",
       "      <th></th>\n",
       "      <th></th>\n",
       "      <th></th>\n",
       "    </tr>\n",
       "  </thead>\n",
       "  <tbody>\n",
       "    <tr>\n",
       "      <th>22056</th>\n",
       "      <td>2900 tyler, Detroit MI</td>\n",
       "      <td>42.390729</td>\n",
       "      <td>-83.124268</td>\n",
       "    </tr>\n",
       "  </tbody>\n",
       "</table>\n",
       "</div>"
      ],
      "text/plain": [
       "                          address        lat        lon\n",
       "ticket_id                                              \n",
       "22056      2900 tyler, Detroit MI  42.390729 -83.124268"
      ]
     },
     "execution_count": 21,
     "metadata": {},
     "output_type": "execute_result"
    }
   ],
   "source": [
    "Merged.head(1)"
   ]
  },
  {
   "cell_type": "code",
   "execution_count": 22,
   "metadata": {
    "collapsed": false
   },
   "outputs": [],
   "source": [
    "train1=train.join(Merged)"
   ]
  },
  {
   "cell_type": "code",
   "execution_count": 23,
   "metadata": {
    "collapsed": false
   },
   "outputs": [
    {
     "data": {
      "text/html": [
       "<div>\n",
       "<table border=\"1\" class=\"dataframe\">\n",
       "  <thead>\n",
       "    <tr style=\"text-align: right;\">\n",
       "      <th></th>\n",
       "      <th>agency_name</th>\n",
       "      <th>inspector_name</th>\n",
       "      <th>violator_name</th>\n",
       "      <th>violation_street_number</th>\n",
       "      <th>violation_street_name</th>\n",
       "      <th>violation_zip_code</th>\n",
       "      <th>mailing_address_str_number</th>\n",
       "      <th>mailing_address_str_name</th>\n",
       "      <th>city</th>\n",
       "      <th>state</th>\n",
       "      <th>...</th>\n",
       "      <th>balance_due</th>\n",
       "      <th>payment_date</th>\n",
       "      <th>payment_status</th>\n",
       "      <th>collection_status</th>\n",
       "      <th>grafitti_status</th>\n",
       "      <th>compliance_detail</th>\n",
       "      <th>compliance</th>\n",
       "      <th>address</th>\n",
       "      <th>lat</th>\n",
       "      <th>lon</th>\n",
       "    </tr>\n",
       "    <tr>\n",
       "      <th>ticket_id</th>\n",
       "      <th></th>\n",
       "      <th></th>\n",
       "      <th></th>\n",
       "      <th></th>\n",
       "      <th></th>\n",
       "      <th></th>\n",
       "      <th></th>\n",
       "      <th></th>\n",
       "      <th></th>\n",
       "      <th></th>\n",
       "      <th></th>\n",
       "      <th></th>\n",
       "      <th></th>\n",
       "      <th></th>\n",
       "      <th></th>\n",
       "      <th></th>\n",
       "      <th></th>\n",
       "      <th></th>\n",
       "      <th></th>\n",
       "      <th></th>\n",
       "      <th></th>\n",
       "    </tr>\n",
       "  </thead>\n",
       "  <tbody>\n",
       "    <tr>\n",
       "      <th>22056</th>\n",
       "      <td>Buildings, Safety Engineering &amp; Env Department</td>\n",
       "      <td>Sims, Martinzie</td>\n",
       "      <td>INVESTMENT INC., MIDWEST MORTGAGE</td>\n",
       "      <td>2900.0</td>\n",
       "      <td>TYLER</td>\n",
       "      <td>NaN</td>\n",
       "      <td>3.0</td>\n",
       "      <td>S. WICKER</td>\n",
       "      <td>CHICAGO</td>\n",
       "      <td>IL</td>\n",
       "      <td>...</td>\n",
       "      <td>305.0</td>\n",
       "      <td>NaN</td>\n",
       "      <td>NO PAYMENT APPLIED</td>\n",
       "      <td>NaN</td>\n",
       "      <td>NaN</td>\n",
       "      <td>non-compliant by no payment</td>\n",
       "      <td>0.0</td>\n",
       "      <td>2900 tyler, Detroit MI</td>\n",
       "      <td>42.390729</td>\n",
       "      <td>-83.124268</td>\n",
       "    </tr>\n",
       "  </tbody>\n",
       "</table>\n",
       "<p>1 rows × 36 columns</p>\n",
       "</div>"
      ],
      "text/plain": [
       "                                              agency_name   inspector_name  \\\n",
       "ticket_id                                                                    \n",
       "22056      Buildings, Safety Engineering & Env Department  Sims, Martinzie   \n",
       "\n",
       "                               violator_name  violation_street_number  \\\n",
       "ticket_id                                                               \n",
       "22056      INVESTMENT INC., MIDWEST MORTGAGE                   2900.0   \n",
       "\n",
       "          violation_street_name  violation_zip_code  \\\n",
       "ticket_id                                             \n",
       "22056                     TYLER                 NaN   \n",
       "\n",
       "           mailing_address_str_number mailing_address_str_name     city state  \\\n",
       "ticket_id                                                                       \n",
       "22056                             3.0                S. WICKER  CHICAGO    IL   \n",
       "\n",
       "             ...     balance_due payment_date      payment_status  \\\n",
       "ticket_id    ...                                                    \n",
       "22056        ...           305.0          NaN  NO PAYMENT APPLIED   \n",
       "\n",
       "          collection_status grafitti_status            compliance_detail  \\\n",
       "ticket_id                                                                  \n",
       "22056                   NaN             NaN  non-compliant by no payment   \n",
       "\n",
       "          compliance                 address        lat        lon  \n",
       "ticket_id                                                           \n",
       "22056            0.0  2900 tyler, Detroit MI  42.390729 -83.124268  \n",
       "\n",
       "[1 rows x 36 columns]"
      ]
     },
     "execution_count": 23,
     "metadata": {},
     "output_type": "execute_result"
    }
   ],
   "source": [
    "train1.head(1)"
   ]
  },
  {
   "cell_type": "code",
   "execution_count": 24,
   "metadata": {
    "collapsed": false
   },
   "outputs": [
    {
     "data": {
      "text/plain": [
       "(159880, 36)"
      ]
     },
     "execution_count": 24,
     "metadata": {},
     "output_type": "execute_result"
    }
   ],
   "source": [
    "train1.shape"
   ]
  },
  {
   "cell_type": "code",
   "execution_count": 25,
   "metadata": {
    "collapsed": false
   },
   "outputs": [],
   "source": [
    "test1=test.join(Merged)"
   ]
  },
  {
   "cell_type": "code",
   "execution_count": 26,
   "metadata": {
    "collapsed": false
   },
   "outputs": [
    {
     "data": {
      "text/html": [
       "<div>\n",
       "<table border=\"1\" class=\"dataframe\">\n",
       "  <thead>\n",
       "    <tr style=\"text-align: right;\">\n",
       "      <th></th>\n",
       "      <th>agency_name</th>\n",
       "      <th>inspector_name</th>\n",
       "      <th>violator_name</th>\n",
       "      <th>violation_street_number</th>\n",
       "      <th>violation_street_name</th>\n",
       "      <th>violation_zip_code</th>\n",
       "      <th>mailing_address_str_number</th>\n",
       "      <th>mailing_address_str_name</th>\n",
       "      <th>city</th>\n",
       "      <th>state</th>\n",
       "      <th>...</th>\n",
       "      <th>admin_fee</th>\n",
       "      <th>state_fee</th>\n",
       "      <th>late_fee</th>\n",
       "      <th>discount_amount</th>\n",
       "      <th>clean_up_cost</th>\n",
       "      <th>judgment_amount</th>\n",
       "      <th>grafitti_status</th>\n",
       "      <th>address</th>\n",
       "      <th>lat</th>\n",
       "      <th>lon</th>\n",
       "    </tr>\n",
       "    <tr>\n",
       "      <th>ticket_id</th>\n",
       "      <th></th>\n",
       "      <th></th>\n",
       "      <th></th>\n",
       "      <th></th>\n",
       "      <th></th>\n",
       "      <th></th>\n",
       "      <th></th>\n",
       "      <th></th>\n",
       "      <th></th>\n",
       "      <th></th>\n",
       "      <th></th>\n",
       "      <th></th>\n",
       "      <th></th>\n",
       "      <th></th>\n",
       "      <th></th>\n",
       "      <th></th>\n",
       "      <th></th>\n",
       "      <th></th>\n",
       "      <th></th>\n",
       "      <th></th>\n",
       "      <th></th>\n",
       "    </tr>\n",
       "  </thead>\n",
       "  <tbody>\n",
       "    <tr>\n",
       "      <th>284932</th>\n",
       "      <td>Department of Public Works</td>\n",
       "      <td>Granberry, Aisha B</td>\n",
       "      <td>FLUELLEN, JOHN A</td>\n",
       "      <td>10041.0</td>\n",
       "      <td>ROSEBERRY</td>\n",
       "      <td>NaN</td>\n",
       "      <td>141</td>\n",
       "      <td>ROSEBERRY</td>\n",
       "      <td>DETROIT</td>\n",
       "      <td>MI</td>\n",
       "      <td>...</td>\n",
       "      <td>20.0</td>\n",
       "      <td>10.0</td>\n",
       "      <td>20.0</td>\n",
       "      <td>0.0</td>\n",
       "      <td>0.0</td>\n",
       "      <td>250.0</td>\n",
       "      <td>NaN</td>\n",
       "      <td>10041 roseberry, Detroit MI</td>\n",
       "      <td>42.407581</td>\n",
       "      <td>-82.986642</td>\n",
       "    </tr>\n",
       "  </tbody>\n",
       "</table>\n",
       "<p>1 rows × 29 columns</p>\n",
       "</div>"
      ],
      "text/plain": [
       "                          agency_name      inspector_name     violator_name  \\\n",
       "ticket_id                                                                     \n",
       "284932     Department of Public Works  Granberry, Aisha B  FLUELLEN, JOHN A   \n",
       "\n",
       "           violation_street_number violation_street_name violation_zip_code  \\\n",
       "ticket_id                                                                     \n",
       "284932                     10041.0             ROSEBERRY                NaN   \n",
       "\n",
       "          mailing_address_str_number mailing_address_str_name     city state  \\\n",
       "ticket_id                                                                      \n",
       "284932                           141                ROSEBERRY  DETROIT    MI   \n",
       "\n",
       "             ...     admin_fee  state_fee late_fee discount_amount  \\\n",
       "ticket_id    ...                                                     \n",
       "284932       ...          20.0       10.0     20.0             0.0   \n",
       "\n",
       "          clean_up_cost judgment_amount grafitti_status  \\\n",
       "ticket_id                                                 \n",
       "284932              0.0           250.0             NaN   \n",
       "\n",
       "                               address        lat        lon  \n",
       "ticket_id                                                     \n",
       "284932     10041 roseberry, Detroit MI  42.407581 -82.986642  \n",
       "\n",
       "[1 rows x 29 columns]"
      ]
     },
     "execution_count": 26,
     "metadata": {},
     "output_type": "execute_result"
    }
   ],
   "source": [
    "test1.head(1)"
   ]
  },
  {
   "cell_type": "code",
   "execution_count": 27,
   "metadata": {
    "collapsed": false
   },
   "outputs": [
    {
     "data": {
      "text/plain": [
       "(61001, 29)"
      ]
     },
     "execution_count": 27,
     "metadata": {},
     "output_type": "execute_result"
    }
   ],
   "source": [
    "test1.shape"
   ]
  },
  {
   "cell_type": "code",
   "execution_count": 28,
   "metadata": {
    "collapsed": false
   },
   "outputs": [
    {
     "data": {
      "text/plain": [
       "Index(['agency_name', 'inspector_name', 'violator_name',\n",
       "       'violation_street_number', 'violation_street_name',\n",
       "       'violation_zip_code', 'mailing_address_str_number',\n",
       "       'mailing_address_str_name', 'city', 'state', 'zip_code',\n",
       "       'non_us_str_code', 'country', 'ticket_issued_date', 'hearing_date',\n",
       "       'violation_code', 'violation_description', 'disposition', 'fine_amount',\n",
       "       'admin_fee', 'state_fee', 'late_fee', 'discount_amount',\n",
       "       'clean_up_cost', 'judgment_amount', 'payment_amount', 'balance_due',\n",
       "       'payment_date', 'payment_status', 'collection_status',\n",
       "       'grafitti_status', 'compliance_detail', 'compliance', 'address', 'lat',\n",
       "       'lon'],\n",
       "      dtype='object')"
      ]
     },
     "execution_count": 28,
     "metadata": {},
     "output_type": "execute_result"
    }
   ],
   "source": [
    "train1.columns"
   ]
  },
  {
   "cell_type": "code",
   "execution_count": 29,
   "metadata": {
    "collapsed": false
   },
   "outputs": [
    {
     "data": {
      "text/plain": [
       "agency_name                    object\n",
       "inspector_name                 object\n",
       "violator_name                  object\n",
       "violation_street_number       float64\n",
       "violation_street_name          object\n",
       "violation_zip_code            float64\n",
       "mailing_address_str_number    float64\n",
       "mailing_address_str_name       object\n",
       "city                           object\n",
       "state                          object\n",
       "zip_code                       object\n",
       "non_us_str_code                object\n",
       "country                        object\n",
       "ticket_issued_date             object\n",
       "hearing_date                   object\n",
       "violation_code                 object\n",
       "violation_description          object\n",
       "disposition                    object\n",
       "fine_amount                   float64\n",
       "admin_fee                     float64\n",
       "state_fee                     float64\n",
       "late_fee                      float64\n",
       "discount_amount               float64\n",
       "clean_up_cost                 float64\n",
       "judgment_amount               float64\n",
       "payment_amount                float64\n",
       "balance_due                   float64\n",
       "payment_date                   object\n",
       "payment_status                 object\n",
       "collection_status              object\n",
       "grafitti_status                object\n",
       "compliance_detail              object\n",
       "compliance                    float64\n",
       "address                        object\n",
       "lat                           float64\n",
       "lon                           float64\n",
       "dtype: object"
      ]
     },
     "execution_count": 29,
     "metadata": {},
     "output_type": "execute_result"
    }
   ],
   "source": [
    "train1.dtypes"
   ]
  },
  {
   "cell_type": "code",
   "execution_count": 30,
   "metadata": {
    "collapsed": false
   },
   "outputs": [
    {
     "data": {
      "text/plain": [
       "agency_name                    object\n",
       "inspector_name                 object\n",
       "violator_name                  object\n",
       "violation_street_number       float64\n",
       "violation_street_name          object\n",
       "violation_zip_code             object\n",
       "mailing_address_str_number     object\n",
       "mailing_address_str_name       object\n",
       "city                           object\n",
       "state                          object\n",
       "zip_code                       object\n",
       "non_us_str_code               float64\n",
       "country                        object\n",
       "ticket_issued_date             object\n",
       "hearing_date                   object\n",
       "violation_code                 object\n",
       "violation_description          object\n",
       "disposition                    object\n",
       "fine_amount                   float64\n",
       "admin_fee                     float64\n",
       "state_fee                     float64\n",
       "late_fee                      float64\n",
       "discount_amount               float64\n",
       "clean_up_cost                 float64\n",
       "judgment_amount               float64\n",
       "grafitti_status                object\n",
       "address                        object\n",
       "lat                           float64\n",
       "lon                           float64\n",
       "dtype: object"
      ]
     },
     "execution_count": 30,
     "metadata": {},
     "output_type": "execute_result"
    }
   ],
   "source": [
    "test1.dtypes"
   ]
  },
  {
   "cell_type": "code",
   "execution_count": 31,
   "metadata": {
    "collapsed": false
   },
   "outputs": [
    {
     "data": {
      "text/plain": [
       "(159880, 33)"
      ]
     },
     "execution_count": 31,
     "metadata": {},
     "output_type": "execute_result"
    }
   ],
   "source": [
    "train.shape"
   ]
  },
  {
   "cell_type": "code",
   "execution_count": 32,
   "metadata": {
    "collapsed": false
   },
   "outputs": [
    {
     "data": {
      "text/plain": [
       "ticket_id\n",
       "22056    2005-03-21 10:30:00\n",
       "Name: hearing_date, dtype: object"
      ]
     },
     "execution_count": 32,
     "metadata": {},
     "output_type": "execute_result"
    }
   ],
   "source": [
    "train1.hearing_date.head(1)"
   ]
  },
  {
   "cell_type": "code",
   "execution_count": 33,
   "metadata": {
    "collapsed": false
   },
   "outputs": [
    {
     "data": {
      "text/plain": [
       "ticket_id\n",
       "22056    2004-03-16 11:40:00\n",
       "Name: ticket_issued_date, dtype: object"
      ]
     },
     "execution_count": 33,
     "metadata": {},
     "output_type": "execute_result"
    }
   ],
   "source": [
    "train1.ticket_issued_date.head(1)"
   ]
  },
  {
   "cell_type": "code",
   "execution_count": null,
   "metadata": {
    "collapsed": true
   },
   "outputs": [],
   "source": []
  },
  {
   "cell_type": "code",
   "execution_count": null,
   "metadata": {
    "collapsed": false
   },
   "outputs": [],
   "source": []
  },
  {
   "cell_type": "code",
   "execution_count": 34,
   "metadata": {
    "collapsed": false
   },
   "outputs": [
    {
     "data": {
      "text/plain": [
       "Index(['agency_name', 'inspector_name', 'violator_name',\n",
       "       'violation_street_number', 'violation_street_name',\n",
       "       'violation_zip_code', 'mailing_address_str_number',\n",
       "       'mailing_address_str_name', 'city', 'state', 'zip_code',\n",
       "       'non_us_str_code', 'country', 'ticket_issued_date', 'hearing_date',\n",
       "       'violation_code', 'violation_description', 'disposition', 'fine_amount',\n",
       "       'admin_fee', 'state_fee', 'late_fee', 'discount_amount',\n",
       "       'clean_up_cost', 'judgment_amount', 'payment_amount', 'balance_due',\n",
       "       'payment_date', 'payment_status', 'collection_status',\n",
       "       'grafitti_status', 'compliance_detail', 'compliance'],\n",
       "      dtype='object')"
      ]
     },
     "execution_count": 34,
     "metadata": {},
     "output_type": "execute_result"
    }
   ],
   "source": [
    "train.columns"
   ]
  },
  {
   "cell_type": "code",
   "execution_count": 35,
   "metadata": {
    "collapsed": false
   },
   "outputs": [
    {
     "data": {
      "text/plain": [
       "Index(['agency_name', 'inspector_name', 'violator_name',\n",
       "       'violation_street_number', 'violation_street_name',\n",
       "       'violation_zip_code', 'mailing_address_str_number',\n",
       "       'mailing_address_str_name', 'city', 'state', 'zip_code',\n",
       "       'non_us_str_code', 'country', 'ticket_issued_date', 'hearing_date',\n",
       "       'violation_code', 'violation_description', 'disposition', 'fine_amount',\n",
       "       'admin_fee', 'state_fee', 'late_fee', 'discount_amount',\n",
       "       'clean_up_cost', 'judgment_amount', 'payment_amount', 'balance_due',\n",
       "       'payment_date', 'payment_status', 'collection_status',\n",
       "       'grafitti_status', 'compliance_detail', 'compliance', 'address', 'lat',\n",
       "       'lon'],\n",
       "      dtype='object')"
      ]
     },
     "execution_count": 35,
     "metadata": {},
     "output_type": "execute_result"
    }
   ],
   "source": [
    "train1.columns"
   ]
  },
  {
   "cell_type": "code",
   "execution_count": 36,
   "metadata": {
    "collapsed": false
   },
   "outputs": [
    {
     "data": {
      "text/plain": [
       "<function ndarray.any>"
      ]
     },
     "execution_count": 36,
     "metadata": {},
     "output_type": "execute_result"
    }
   ],
   "source": [
    "train1.lat.isnull().values.any"
   ]
  },
  {
   "cell_type": "code",
   "execution_count": 37,
   "metadata": {
    "collapsed": false
   },
   "outputs": [
    {
     "data": {
      "text/plain": [
       "ticket_id\n",
       "22056    2005-03-21 10:30:00\n",
       "Name: hearing_date, dtype: object"
      ]
     },
     "execution_count": 37,
     "metadata": {},
     "output_type": "execute_result"
    }
   ],
   "source": [
    "train.hearing_date.head(1)"
   ]
  },
  {
   "cell_type": "code",
   "execution_count": 38,
   "metadata": {
    "collapsed": false
   },
   "outputs": [
    {
     "data": {
      "text/plain": [
       "ticket_id\n",
       "22056    2004-03-16 11:40:00\n",
       "Name: ticket_issued_date, dtype: object"
      ]
     },
     "execution_count": 38,
     "metadata": {},
     "output_type": "execute_result"
    }
   ],
   "source": [
    "train1.ticket_issued_date.head(1)"
   ]
  },
  {
   "cell_type": "code",
   "execution_count": 39,
   "metadata": {
    "collapsed": false
   },
   "outputs": [
    {
     "data": {
      "text/plain": [
       "Index(['agency_name', 'inspector_name', 'violator_name',\n",
       "       'violation_street_number', 'violation_street_name',\n",
       "       'violation_zip_code', 'mailing_address_str_number',\n",
       "       'mailing_address_str_name', 'city', 'state', 'zip_code',\n",
       "       'non_us_str_code', 'country', 'ticket_issued_date', 'hearing_date',\n",
       "       'violation_code', 'violation_description', 'disposition', 'fine_amount',\n",
       "       'admin_fee', 'state_fee', 'late_fee', 'discount_amount',\n",
       "       'clean_up_cost', 'judgment_amount', 'grafitti_status', 'address', 'lat',\n",
       "       'lon'],\n",
       "      dtype='object')"
      ]
     },
     "execution_count": 39,
     "metadata": {},
     "output_type": "execute_result"
    }
   ],
   "source": [
    "test1.columns"
   ]
  },
  {
   "cell_type": "code",
   "execution_count": 40,
   "metadata": {
    "collapsed": false
   },
   "outputs": [],
   "source": [
    "column_remove=['agency_name', 'inspector_name', 'violator_name',\n",
    "       'violation_street_number', 'violation_street_name',\n",
    "       'violation_zip_code', 'mailing_address_str_number',\n",
    "       'mailing_address_str_name', 'city', 'state', 'zip_code',\n",
    "       'non_us_str_code', 'country','violation_code', 'violation_description', 'disposition'\n",
    "        ,'grafitti_status', 'address']"
   ]
  },
  {
   "cell_type": "code",
   "execution_count": 41,
   "metadata": {
    "collapsed": false
   },
   "outputs": [
    {
     "data": {
      "text/plain": [
       "agency_name                    object\n",
       "inspector_name                 object\n",
       "violator_name                  object\n",
       "violation_street_number       float64\n",
       "violation_street_name          object\n",
       "violation_zip_code             object\n",
       "mailing_address_str_number     object\n",
       "mailing_address_str_name       object\n",
       "city                           object\n",
       "state                          object\n",
       "zip_code                       object\n",
       "non_us_str_code               float64\n",
       "country                        object\n",
       "ticket_issued_date             object\n",
       "hearing_date                   object\n",
       "violation_code                 object\n",
       "violation_description          object\n",
       "disposition                    object\n",
       "fine_amount                   float64\n",
       "admin_fee                     float64\n",
       "state_fee                     float64\n",
       "late_fee                      float64\n",
       "discount_amount               float64\n",
       "clean_up_cost                 float64\n",
       "judgment_amount               float64\n",
       "grafitti_status                object\n",
       "address                        object\n",
       "lat                           float64\n",
       "lon                           float64\n",
       "dtype: object"
      ]
     },
     "execution_count": 41,
     "metadata": {},
     "output_type": "execute_result"
    }
   ],
   "source": [
    "test1.dtypes"
   ]
  },
  {
   "cell_type": "code",
   "execution_count": 42,
   "metadata": {
    "collapsed": false
   },
   "outputs": [
    {
     "data": {
      "text/plain": [
       "['agency_name',\n",
       " 'inspector_name',\n",
       " 'violator_name',\n",
       " 'violation_street_number',\n",
       " 'violation_street_name',\n",
       " 'violation_zip_code',\n",
       " 'mailing_address_str_number',\n",
       " 'mailing_address_str_name',\n",
       " 'city',\n",
       " 'state',\n",
       " 'zip_code',\n",
       " 'non_us_str_code',\n",
       " 'country',\n",
       " 'violation_code',\n",
       " 'violation_description',\n",
       " 'disposition',\n",
       " 'grafitti_status',\n",
       " 'address']"
      ]
     },
     "execution_count": 42,
     "metadata": {},
     "output_type": "execute_result"
    }
   ],
   "source": [
    "column_remove"
   ]
  },
  {
   "cell_type": "code",
   "execution_count": 43,
   "metadata": {
    "collapsed": true
   },
   "outputs": [],
   "source": [
    "test1.drop(column_remove, axis=1, inplace=True)"
   ]
  },
  {
   "cell_type": "code",
   "execution_count": 44,
   "metadata": {
    "collapsed": false
   },
   "outputs": [
    {
     "data": {
      "text/html": [
       "<div>\n",
       "<table border=\"1\" class=\"dataframe\">\n",
       "  <thead>\n",
       "    <tr style=\"text-align: right;\">\n",
       "      <th></th>\n",
       "      <th>ticket_issued_date</th>\n",
       "      <th>hearing_date</th>\n",
       "      <th>fine_amount</th>\n",
       "      <th>admin_fee</th>\n",
       "      <th>state_fee</th>\n",
       "      <th>late_fee</th>\n",
       "      <th>discount_amount</th>\n",
       "      <th>clean_up_cost</th>\n",
       "      <th>judgment_amount</th>\n",
       "      <th>lat</th>\n",
       "      <th>lon</th>\n",
       "    </tr>\n",
       "    <tr>\n",
       "      <th>ticket_id</th>\n",
       "      <th></th>\n",
       "      <th></th>\n",
       "      <th></th>\n",
       "      <th></th>\n",
       "      <th></th>\n",
       "      <th></th>\n",
       "      <th></th>\n",
       "      <th></th>\n",
       "      <th></th>\n",
       "      <th></th>\n",
       "      <th></th>\n",
       "    </tr>\n",
       "  </thead>\n",
       "  <tbody>\n",
       "    <tr>\n",
       "      <th>284932</th>\n",
       "      <td>2012-01-04 14:00:00</td>\n",
       "      <td>2012-01-19 09:00:00</td>\n",
       "      <td>200.0</td>\n",
       "      <td>20.0</td>\n",
       "      <td>10.0</td>\n",
       "      <td>20.0</td>\n",
       "      <td>0.0</td>\n",
       "      <td>0.0</td>\n",
       "      <td>250.0</td>\n",
       "      <td>42.407581</td>\n",
       "      <td>-82.986642</td>\n",
       "    </tr>\n",
       "    <tr>\n",
       "      <th>285362</th>\n",
       "      <td>2012-01-05 09:50:00</td>\n",
       "      <td>2012-02-06 09:00:00</td>\n",
       "      <td>1000.0</td>\n",
       "      <td>20.0</td>\n",
       "      <td>10.0</td>\n",
       "      <td>100.0</td>\n",
       "      <td>0.0</td>\n",
       "      <td>0.0</td>\n",
       "      <td>1130.0</td>\n",
       "      <td>42.426239</td>\n",
       "      <td>-83.238259</td>\n",
       "    </tr>\n",
       "  </tbody>\n",
       "</table>\n",
       "</div>"
      ],
      "text/plain": [
       "            ticket_issued_date         hearing_date  fine_amount  admin_fee  \\\n",
       "ticket_id                                                                     \n",
       "284932     2012-01-04 14:00:00  2012-01-19 09:00:00        200.0       20.0   \n",
       "285362     2012-01-05 09:50:00  2012-02-06 09:00:00       1000.0       20.0   \n",
       "\n",
       "           state_fee  late_fee  discount_amount  clean_up_cost  \\\n",
       "ticket_id                                                        \n",
       "284932          10.0      20.0              0.0            0.0   \n",
       "285362          10.0     100.0              0.0            0.0   \n",
       "\n",
       "           judgment_amount        lat        lon  \n",
       "ticket_id                                         \n",
       "284932               250.0  42.407581 -82.986642  \n",
       "285362              1130.0  42.426239 -83.238259  "
      ]
     },
     "execution_count": 44,
     "metadata": {},
     "output_type": "execute_result"
    }
   ],
   "source": [
    "test1.head(2)"
   ]
  },
  {
   "cell_type": "code",
   "execution_count": 45,
   "metadata": {
    "collapsed": false
   },
   "outputs": [],
   "source": [
    "train1.drop(column_remove, axis=1, inplace=True)"
   ]
  },
  {
   "cell_type": "code",
   "execution_count": 46,
   "metadata": {
    "collapsed": false
   },
   "outputs": [
    {
     "data": {
      "text/html": [
       "<div>\n",
       "<table border=\"1\" class=\"dataframe\">\n",
       "  <thead>\n",
       "    <tr style=\"text-align: right;\">\n",
       "      <th></th>\n",
       "      <th>ticket_issued_date</th>\n",
       "      <th>hearing_date</th>\n",
       "      <th>fine_amount</th>\n",
       "      <th>admin_fee</th>\n",
       "      <th>state_fee</th>\n",
       "      <th>late_fee</th>\n",
       "      <th>discount_amount</th>\n",
       "      <th>clean_up_cost</th>\n",
       "      <th>judgment_amount</th>\n",
       "      <th>payment_amount</th>\n",
       "      <th>balance_due</th>\n",
       "      <th>payment_date</th>\n",
       "      <th>payment_status</th>\n",
       "      <th>collection_status</th>\n",
       "      <th>compliance_detail</th>\n",
       "      <th>compliance</th>\n",
       "      <th>lat</th>\n",
       "      <th>lon</th>\n",
       "    </tr>\n",
       "    <tr>\n",
       "      <th>ticket_id</th>\n",
       "      <th></th>\n",
       "      <th></th>\n",
       "      <th></th>\n",
       "      <th></th>\n",
       "      <th></th>\n",
       "      <th></th>\n",
       "      <th></th>\n",
       "      <th></th>\n",
       "      <th></th>\n",
       "      <th></th>\n",
       "      <th></th>\n",
       "      <th></th>\n",
       "      <th></th>\n",
       "      <th></th>\n",
       "      <th></th>\n",
       "      <th></th>\n",
       "      <th></th>\n",
       "      <th></th>\n",
       "    </tr>\n",
       "  </thead>\n",
       "  <tbody>\n",
       "    <tr>\n",
       "      <th>22056</th>\n",
       "      <td>2004-03-16 11:40:00</td>\n",
       "      <td>2005-03-21 10:30:00</td>\n",
       "      <td>250.0</td>\n",
       "      <td>20.0</td>\n",
       "      <td>10.0</td>\n",
       "      <td>25.0</td>\n",
       "      <td>0.0</td>\n",
       "      <td>0.0</td>\n",
       "      <td>305.0</td>\n",
       "      <td>0.0</td>\n",
       "      <td>305.0</td>\n",
       "      <td>NaN</td>\n",
       "      <td>NO PAYMENT APPLIED</td>\n",
       "      <td>NaN</td>\n",
       "      <td>non-compliant by no payment</td>\n",
       "      <td>0.0</td>\n",
       "      <td>42.390729</td>\n",
       "      <td>-83.124268</td>\n",
       "    </tr>\n",
       "    <tr>\n",
       "      <th>27586</th>\n",
       "      <td>2004-04-23 12:30:00</td>\n",
       "      <td>2005-05-06 13:30:00</td>\n",
       "      <td>750.0</td>\n",
       "      <td>20.0</td>\n",
       "      <td>10.0</td>\n",
       "      <td>75.0</td>\n",
       "      <td>0.0</td>\n",
       "      <td>0.0</td>\n",
       "      <td>855.0</td>\n",
       "      <td>780.0</td>\n",
       "      <td>75.0</td>\n",
       "      <td>2005-06-02 00:00:00</td>\n",
       "      <td>PAID IN FULL</td>\n",
       "      <td>NaN</td>\n",
       "      <td>compliant by late payment within 1 month</td>\n",
       "      <td>1.0</td>\n",
       "      <td>42.326937</td>\n",
       "      <td>-83.135118</td>\n",
       "    </tr>\n",
       "  </tbody>\n",
       "</table>\n",
       "</div>"
      ],
      "text/plain": [
       "            ticket_issued_date         hearing_date  fine_amount  admin_fee  \\\n",
       "ticket_id                                                                     \n",
       "22056      2004-03-16 11:40:00  2005-03-21 10:30:00        250.0       20.0   \n",
       "27586      2004-04-23 12:30:00  2005-05-06 13:30:00        750.0       20.0   \n",
       "\n",
       "           state_fee  late_fee  discount_amount  clean_up_cost  \\\n",
       "ticket_id                                                        \n",
       "22056           10.0      25.0              0.0            0.0   \n",
       "27586           10.0      75.0              0.0            0.0   \n",
       "\n",
       "           judgment_amount  payment_amount  balance_due         payment_date  \\\n",
       "ticket_id                                                                      \n",
       "22056                305.0             0.0        305.0                  NaN   \n",
       "27586                855.0           780.0         75.0  2005-06-02 00:00:00   \n",
       "\n",
       "               payment_status collection_status  \\\n",
       "ticket_id                                         \n",
       "22056      NO PAYMENT APPLIED               NaN   \n",
       "27586            PAID IN FULL               NaN   \n",
       "\n",
       "                                  compliance_detail  compliance        lat  \\\n",
       "ticket_id                                                                    \n",
       "22056                   non-compliant by no payment         0.0  42.390729   \n",
       "27586      compliant by late payment within 1 month         1.0  42.326937   \n",
       "\n",
       "                 lon  \n",
       "ticket_id             \n",
       "22056     -83.124268  \n",
       "27586     -83.135118  "
      ]
     },
     "execution_count": 46,
     "metadata": {},
     "output_type": "execute_result"
    }
   ],
   "source": [
    "train1.head(2)"
   ]
  },
  {
   "cell_type": "code",
   "execution_count": 47,
   "metadata": {
    "collapsed": false
   },
   "outputs": [
    {
     "data": {
      "text/plain": [
       "Index(['ticket_issued_date', 'hearing_date', 'fine_amount', 'admin_fee',\n",
       "       'state_fee', 'late_fee', 'discount_amount', 'clean_up_cost',\n",
       "       'judgment_amount', 'payment_amount', 'balance_due', 'payment_date',\n",
       "       'payment_status', 'collection_status', 'compliance_detail',\n",
       "       'compliance', 'lat', 'lon'],\n",
       "      dtype='object')"
      ]
     },
     "execution_count": 47,
     "metadata": {},
     "output_type": "execute_result"
    }
   ],
   "source": [
    "train1.columns"
   ]
  },
  {
   "cell_type": "code",
   "execution_count": 48,
   "metadata": {
    "collapsed": false
   },
   "outputs": [],
   "source": [
    "train1.drop(['payment_amount', 'balance_due', 'payment_date','payment_status', 'collection_status', 'compliance_detail'],axis=1, inplace=True)"
   ]
  },
  {
   "cell_type": "code",
   "execution_count": 49,
   "metadata": {
    "collapsed": false
   },
   "outputs": [
    {
     "data": {
      "text/html": [
       "<div>\n",
       "<table border=\"1\" class=\"dataframe\">\n",
       "  <thead>\n",
       "    <tr style=\"text-align: right;\">\n",
       "      <th></th>\n",
       "      <th>ticket_issued_date</th>\n",
       "      <th>hearing_date</th>\n",
       "      <th>fine_amount</th>\n",
       "      <th>admin_fee</th>\n",
       "      <th>state_fee</th>\n",
       "      <th>late_fee</th>\n",
       "      <th>discount_amount</th>\n",
       "      <th>clean_up_cost</th>\n",
       "      <th>judgment_amount</th>\n",
       "      <th>compliance</th>\n",
       "      <th>lat</th>\n",
       "      <th>lon</th>\n",
       "    </tr>\n",
       "    <tr>\n",
       "      <th>ticket_id</th>\n",
       "      <th></th>\n",
       "      <th></th>\n",
       "      <th></th>\n",
       "      <th></th>\n",
       "      <th></th>\n",
       "      <th></th>\n",
       "      <th></th>\n",
       "      <th></th>\n",
       "      <th></th>\n",
       "      <th></th>\n",
       "      <th></th>\n",
       "      <th></th>\n",
       "    </tr>\n",
       "  </thead>\n",
       "  <tbody>\n",
       "    <tr>\n",
       "      <th>22056</th>\n",
       "      <td>2004-03-16 11:40:00</td>\n",
       "      <td>2005-03-21 10:30:00</td>\n",
       "      <td>250.0</td>\n",
       "      <td>20.0</td>\n",
       "      <td>10.0</td>\n",
       "      <td>25.0</td>\n",
       "      <td>0.0</td>\n",
       "      <td>0.0</td>\n",
       "      <td>305.0</td>\n",
       "      <td>0.0</td>\n",
       "      <td>42.390729</td>\n",
       "      <td>-83.124268</td>\n",
       "    </tr>\n",
       "    <tr>\n",
       "      <th>27586</th>\n",
       "      <td>2004-04-23 12:30:00</td>\n",
       "      <td>2005-05-06 13:30:00</td>\n",
       "      <td>750.0</td>\n",
       "      <td>20.0</td>\n",
       "      <td>10.0</td>\n",
       "      <td>75.0</td>\n",
       "      <td>0.0</td>\n",
       "      <td>0.0</td>\n",
       "      <td>855.0</td>\n",
       "      <td>1.0</td>\n",
       "      <td>42.326937</td>\n",
       "      <td>-83.135118</td>\n",
       "    </tr>\n",
       "  </tbody>\n",
       "</table>\n",
       "</div>"
      ],
      "text/plain": [
       "            ticket_issued_date         hearing_date  fine_amount  admin_fee  \\\n",
       "ticket_id                                                                     \n",
       "22056      2004-03-16 11:40:00  2005-03-21 10:30:00        250.0       20.0   \n",
       "27586      2004-04-23 12:30:00  2005-05-06 13:30:00        750.0       20.0   \n",
       "\n",
       "           state_fee  late_fee  discount_amount  clean_up_cost  \\\n",
       "ticket_id                                                        \n",
       "22056           10.0      25.0              0.0            0.0   \n",
       "27586           10.0      75.0              0.0            0.0   \n",
       "\n",
       "           judgment_amount  compliance        lat        lon  \n",
       "ticket_id                                                     \n",
       "22056                305.0         0.0  42.390729 -83.124268  \n",
       "27586                855.0         1.0  42.326937 -83.135118  "
      ]
     },
     "execution_count": 49,
     "metadata": {},
     "output_type": "execute_result"
    }
   ],
   "source": [
    "train1.head(2)"
   ]
  },
  {
   "cell_type": "code",
   "execution_count": 50,
   "metadata": {
    "collapsed": false
   },
   "outputs": [
    {
     "data": {
      "text/html": [
       "<div>\n",
       "<table border=\"1\" class=\"dataframe\">\n",
       "  <thead>\n",
       "    <tr style=\"text-align: right;\">\n",
       "      <th></th>\n",
       "      <th>ticket_issued_date</th>\n",
       "      <th>hearing_date</th>\n",
       "      <th>fine_amount</th>\n",
       "      <th>admin_fee</th>\n",
       "      <th>state_fee</th>\n",
       "      <th>late_fee</th>\n",
       "      <th>discount_amount</th>\n",
       "      <th>clean_up_cost</th>\n",
       "      <th>judgment_amount</th>\n",
       "      <th>lat</th>\n",
       "      <th>lon</th>\n",
       "    </tr>\n",
       "    <tr>\n",
       "      <th>ticket_id</th>\n",
       "      <th></th>\n",
       "      <th></th>\n",
       "      <th></th>\n",
       "      <th></th>\n",
       "      <th></th>\n",
       "      <th></th>\n",
       "      <th></th>\n",
       "      <th></th>\n",
       "      <th></th>\n",
       "      <th></th>\n",
       "      <th></th>\n",
       "    </tr>\n",
       "  </thead>\n",
       "  <tbody>\n",
       "    <tr>\n",
       "      <th>284932</th>\n",
       "      <td>2012-01-04 14:00:00</td>\n",
       "      <td>2012-01-19 09:00:00</td>\n",
       "      <td>200.0</td>\n",
       "      <td>20.0</td>\n",
       "      <td>10.0</td>\n",
       "      <td>20.0</td>\n",
       "      <td>0.0</td>\n",
       "      <td>0.0</td>\n",
       "      <td>250.0</td>\n",
       "      <td>42.407581</td>\n",
       "      <td>-82.986642</td>\n",
       "    </tr>\n",
       "    <tr>\n",
       "      <th>285362</th>\n",
       "      <td>2012-01-05 09:50:00</td>\n",
       "      <td>2012-02-06 09:00:00</td>\n",
       "      <td>1000.0</td>\n",
       "      <td>20.0</td>\n",
       "      <td>10.0</td>\n",
       "      <td>100.0</td>\n",
       "      <td>0.0</td>\n",
       "      <td>0.0</td>\n",
       "      <td>1130.0</td>\n",
       "      <td>42.426239</td>\n",
       "      <td>-83.238259</td>\n",
       "    </tr>\n",
       "  </tbody>\n",
       "</table>\n",
       "</div>"
      ],
      "text/plain": [
       "            ticket_issued_date         hearing_date  fine_amount  admin_fee  \\\n",
       "ticket_id                                                                     \n",
       "284932     2012-01-04 14:00:00  2012-01-19 09:00:00        200.0       20.0   \n",
       "285362     2012-01-05 09:50:00  2012-02-06 09:00:00       1000.0       20.0   \n",
       "\n",
       "           state_fee  late_fee  discount_amount  clean_up_cost  \\\n",
       "ticket_id                                                        \n",
       "284932          10.0      20.0              0.0            0.0   \n",
       "285362          10.0     100.0              0.0            0.0   \n",
       "\n",
       "           judgment_amount        lat        lon  \n",
       "ticket_id                                         \n",
       "284932               250.0  42.407581 -82.986642  \n",
       "285362              1130.0  42.426239 -83.238259  "
      ]
     },
     "execution_count": 50,
     "metadata": {},
     "output_type": "execute_result"
    }
   ],
   "source": [
    "test1.head(2)"
   ]
  },
  {
   "cell_type": "code",
   "execution_count": null,
   "metadata": {
    "collapsed": true
   },
   "outputs": [],
   "source": []
  },
  {
   "cell_type": "code",
   "execution_count": 51,
   "metadata": {
    "collapsed": false
   },
   "outputs": [
    {
     "data": {
      "text/plain": [
       "(159880, 12)"
      ]
     },
     "execution_count": 51,
     "metadata": {},
     "output_type": "execute_result"
    }
   ],
   "source": [
    "train1.shape"
   ]
  },
  {
   "cell_type": "code",
   "execution_count": 52,
   "metadata": {
    "collapsed": false
   },
   "outputs": [
    {
     "data": {
      "text/plain": [
       "(61001, 11)"
      ]
     },
     "execution_count": 52,
     "metadata": {},
     "output_type": "execute_result"
    }
   ],
   "source": [
    "test1.shape"
   ]
  },
  {
   "cell_type": "code",
   "execution_count": 53,
   "metadata": {
    "collapsed": false
   },
   "outputs": [],
   "source": [
    "train1.ticket_issued_date=pd.to_datetime(train1.ticket_issued_date)"
   ]
  },
  {
   "cell_type": "code",
   "execution_count": 54,
   "metadata": {
    "collapsed": false
   },
   "outputs": [
    {
     "data": {
      "text/plain": [
       "dtype('<M8[ns]')"
      ]
     },
     "execution_count": 54,
     "metadata": {},
     "output_type": "execute_result"
    }
   ],
   "source": [
    "train1.ticket_issued_date.dtype"
   ]
  },
  {
   "cell_type": "code",
   "execution_count": 55,
   "metadata": {
    "collapsed": false
   },
   "outputs": [
    {
     "data": {
      "text/plain": [
       "dtype('O')"
      ]
     },
     "execution_count": 55,
     "metadata": {},
     "output_type": "execute_result"
    }
   ],
   "source": [
    "test1.ticket_issued_date.dtype"
   ]
  },
  {
   "cell_type": "code",
   "execution_count": 56,
   "metadata": {
    "collapsed": true
   },
   "outputs": [],
   "source": [
    "test1.ticket_issued_date=pd.to_datetime(test1.ticket_issued_date)"
   ]
  },
  {
   "cell_type": "code",
   "execution_count": 58,
   "metadata": {
    "collapsed": false
   },
   "outputs": [
    {
     "data": {
      "text/plain": [
       "Index(['ticket_issued_date', 'hearing_date', 'fine_amount', 'admin_fee',\n",
       "       'state_fee', 'late_fee', 'discount_amount', 'clean_up_cost',\n",
       "       'judgment_amount', 'compliance', 'lat', 'lon'],\n",
       "      dtype='object')"
      ]
     },
     "execution_count": 58,
     "metadata": {},
     "output_type": "execute_result"
    }
   ],
   "source": [
    "train1.columns"
   ]
  },
  {
   "cell_type": "code",
   "execution_count": 59,
   "metadata": {
    "collapsed": false
   },
   "outputs": [
    {
     "data": {
      "text/plain": [
       "Index(['ticket_issued_date', 'hearing_date', 'fine_amount', 'admin_fee',\n",
       "       'state_fee', 'late_fee', 'discount_amount', 'clean_up_cost',\n",
       "       'judgment_amount', 'lat', 'lon'],\n",
       "      dtype='object')"
      ]
     },
     "execution_count": 59,
     "metadata": {},
     "output_type": "execute_result"
    }
   ],
   "source": [
    "test1.columns"
   ]
  },
  {
   "cell_type": "code",
   "execution_count": 60,
   "metadata": {
    "collapsed": true
   },
   "outputs": [],
   "source": [
    "train1.hearing_date=pd.to_datetime(train1.hearing_date)"
   ]
  },
  {
   "cell_type": "code",
   "execution_count": 61,
   "metadata": {
    "collapsed": true
   },
   "outputs": [],
   "source": [
    "test1.hearing_date=pd.to_datetime(test1.hearing_date)"
   ]
  },
  {
   "cell_type": "code",
   "execution_count": 62,
   "metadata": {
    "collapsed": false
   },
   "outputs": [
    {
     "data": {
      "text/plain": [
       "dtype('<M8[ns]')"
      ]
     },
     "execution_count": 62,
     "metadata": {},
     "output_type": "execute_result"
    }
   ],
   "source": [
    "train1.hearing_date.dtype"
   ]
  },
  {
   "cell_type": "code",
   "execution_count": 63,
   "metadata": {
    "collapsed": false
   },
   "outputs": [
    {
     "data": {
      "text/html": [
       "<div>\n",
       "<table border=\"1\" class=\"dataframe\">\n",
       "  <thead>\n",
       "    <tr style=\"text-align: right;\">\n",
       "      <th></th>\n",
       "      <th>ticket_issued_date</th>\n",
       "      <th>hearing_date</th>\n",
       "      <th>fine_amount</th>\n",
       "      <th>admin_fee</th>\n",
       "      <th>state_fee</th>\n",
       "      <th>late_fee</th>\n",
       "      <th>discount_amount</th>\n",
       "      <th>clean_up_cost</th>\n",
       "      <th>judgment_amount</th>\n",
       "      <th>compliance</th>\n",
       "      <th>lat</th>\n",
       "      <th>lon</th>\n",
       "    </tr>\n",
       "    <tr>\n",
       "      <th>ticket_id</th>\n",
       "      <th></th>\n",
       "      <th></th>\n",
       "      <th></th>\n",
       "      <th></th>\n",
       "      <th></th>\n",
       "      <th></th>\n",
       "      <th></th>\n",
       "      <th></th>\n",
       "      <th></th>\n",
       "      <th></th>\n",
       "      <th></th>\n",
       "      <th></th>\n",
       "    </tr>\n",
       "  </thead>\n",
       "  <tbody>\n",
       "    <tr>\n",
       "      <th>22056</th>\n",
       "      <td>2004-03-16 11:40:00</td>\n",
       "      <td>2005-03-21 10:30:00</td>\n",
       "      <td>250.0</td>\n",
       "      <td>20.0</td>\n",
       "      <td>10.0</td>\n",
       "      <td>25.0</td>\n",
       "      <td>0.0</td>\n",
       "      <td>0.0</td>\n",
       "      <td>305.0</td>\n",
       "      <td>0.0</td>\n",
       "      <td>42.390729</td>\n",
       "      <td>-83.124268</td>\n",
       "    </tr>\n",
       "    <tr>\n",
       "      <th>27586</th>\n",
       "      <td>2004-04-23 12:30:00</td>\n",
       "      <td>2005-05-06 13:30:00</td>\n",
       "      <td>750.0</td>\n",
       "      <td>20.0</td>\n",
       "      <td>10.0</td>\n",
       "      <td>75.0</td>\n",
       "      <td>0.0</td>\n",
       "      <td>0.0</td>\n",
       "      <td>855.0</td>\n",
       "      <td>1.0</td>\n",
       "      <td>42.326937</td>\n",
       "      <td>-83.135118</td>\n",
       "    </tr>\n",
       "  </tbody>\n",
       "</table>\n",
       "</div>"
      ],
      "text/plain": [
       "           ticket_issued_date        hearing_date  fine_amount  admin_fee  \\\n",
       "ticket_id                                                                   \n",
       "22056     2004-03-16 11:40:00 2005-03-21 10:30:00        250.0       20.0   \n",
       "27586     2004-04-23 12:30:00 2005-05-06 13:30:00        750.0       20.0   \n",
       "\n",
       "           state_fee  late_fee  discount_amount  clean_up_cost  \\\n",
       "ticket_id                                                        \n",
       "22056           10.0      25.0              0.0            0.0   \n",
       "27586           10.0      75.0              0.0            0.0   \n",
       "\n",
       "           judgment_amount  compliance        lat        lon  \n",
       "ticket_id                                                     \n",
       "22056                305.0         0.0  42.390729 -83.124268  \n",
       "27586                855.0         1.0  42.326937 -83.135118  "
      ]
     },
     "execution_count": 63,
     "metadata": {},
     "output_type": "execute_result"
    }
   ],
   "source": [
    "train1.head(2)"
   ]
  },
  {
   "cell_type": "code",
   "execution_count": 64,
   "metadata": {
    "collapsed": true
   },
   "outputs": [],
   "source": [
    "y_train1=train1.compliance"
   ]
  },
  {
   "cell_type": "code",
   "execution_count": 65,
   "metadata": {
    "collapsed": false
   },
   "outputs": [
    {
     "data": {
      "text/plain": [
       "ticket_id\n",
       "22056    0.0\n",
       "27586    1.0\n",
       "Name: compliance, dtype: float64"
      ]
     },
     "execution_count": 65,
     "metadata": {},
     "output_type": "execute_result"
    }
   ],
   "source": [
    "y_train1.head(2)"
   ]
  },
  {
   "cell_type": "code",
   "execution_count": 66,
   "metadata": {
    "collapsed": true
   },
   "outputs": [],
   "source": [
    "X_train=train1.copy()"
   ]
  },
  {
   "cell_type": "code",
   "execution_count": 67,
   "metadata": {
    "collapsed": false
   },
   "outputs": [
    {
     "data": {
      "text/html": [
       "<div>\n",
       "<table border=\"1\" class=\"dataframe\">\n",
       "  <thead>\n",
       "    <tr style=\"text-align: right;\">\n",
       "      <th></th>\n",
       "      <th>ticket_issued_date</th>\n",
       "      <th>hearing_date</th>\n",
       "      <th>fine_amount</th>\n",
       "      <th>admin_fee</th>\n",
       "      <th>state_fee</th>\n",
       "      <th>late_fee</th>\n",
       "      <th>discount_amount</th>\n",
       "      <th>clean_up_cost</th>\n",
       "      <th>judgment_amount</th>\n",
       "      <th>compliance</th>\n",
       "      <th>lat</th>\n",
       "      <th>lon</th>\n",
       "    </tr>\n",
       "    <tr>\n",
       "      <th>ticket_id</th>\n",
       "      <th></th>\n",
       "      <th></th>\n",
       "      <th></th>\n",
       "      <th></th>\n",
       "      <th></th>\n",
       "      <th></th>\n",
       "      <th></th>\n",
       "      <th></th>\n",
       "      <th></th>\n",
       "      <th></th>\n",
       "      <th></th>\n",
       "      <th></th>\n",
       "    </tr>\n",
       "  </thead>\n",
       "  <tbody>\n",
       "    <tr>\n",
       "      <th>22056</th>\n",
       "      <td>2004-03-16 11:40:00</td>\n",
       "      <td>2005-03-21 10:30:00</td>\n",
       "      <td>250.0</td>\n",
       "      <td>20.0</td>\n",
       "      <td>10.0</td>\n",
       "      <td>25.0</td>\n",
       "      <td>0.0</td>\n",
       "      <td>0.0</td>\n",
       "      <td>305.0</td>\n",
       "      <td>0.0</td>\n",
       "      <td>42.390729</td>\n",
       "      <td>-83.124268</td>\n",
       "    </tr>\n",
       "    <tr>\n",
       "      <th>27586</th>\n",
       "      <td>2004-04-23 12:30:00</td>\n",
       "      <td>2005-05-06 13:30:00</td>\n",
       "      <td>750.0</td>\n",
       "      <td>20.0</td>\n",
       "      <td>10.0</td>\n",
       "      <td>75.0</td>\n",
       "      <td>0.0</td>\n",
       "      <td>0.0</td>\n",
       "      <td>855.0</td>\n",
       "      <td>1.0</td>\n",
       "      <td>42.326937</td>\n",
       "      <td>-83.135118</td>\n",
       "    </tr>\n",
       "    <tr>\n",
       "      <th>22046</th>\n",
       "      <td>2004-05-01 11:50:00</td>\n",
       "      <td>2005-03-21 10:30:00</td>\n",
       "      <td>250.0</td>\n",
       "      <td>20.0</td>\n",
       "      <td>10.0</td>\n",
       "      <td>25.0</td>\n",
       "      <td>0.0</td>\n",
       "      <td>0.0</td>\n",
       "      <td>305.0</td>\n",
       "      <td>0.0</td>\n",
       "      <td>42.145257</td>\n",
       "      <td>-83.208233</td>\n",
       "    </tr>\n",
       "  </tbody>\n",
       "</table>\n",
       "</div>"
      ],
      "text/plain": [
       "           ticket_issued_date        hearing_date  fine_amount  admin_fee  \\\n",
       "ticket_id                                                                   \n",
       "22056     2004-03-16 11:40:00 2005-03-21 10:30:00        250.0       20.0   \n",
       "27586     2004-04-23 12:30:00 2005-05-06 13:30:00        750.0       20.0   \n",
       "22046     2004-05-01 11:50:00 2005-03-21 10:30:00        250.0       20.0   \n",
       "\n",
       "           state_fee  late_fee  discount_amount  clean_up_cost  \\\n",
       "ticket_id                                                        \n",
       "22056           10.0      25.0              0.0            0.0   \n",
       "27586           10.0      75.0              0.0            0.0   \n",
       "22046           10.0      25.0              0.0            0.0   \n",
       "\n",
       "           judgment_amount  compliance        lat        lon  \n",
       "ticket_id                                                     \n",
       "22056                305.0         0.0  42.390729 -83.124268  \n",
       "27586                855.0         1.0  42.326937 -83.135118  \n",
       "22046                305.0         0.0  42.145257 -83.208233  "
      ]
     },
     "execution_count": 67,
     "metadata": {},
     "output_type": "execute_result"
    }
   ],
   "source": [
    "X_train.head(3)"
   ]
  },
  {
   "cell_type": "code",
   "execution_count": 74,
   "metadata": {
    "collapsed": false
   },
   "outputs": [],
   "source": [
    "train1=train1.drop('compliance', axis=1)"
   ]
  },
  {
   "cell_type": "code",
   "execution_count": 75,
   "metadata": {
    "collapsed": false
   },
   "outputs": [
    {
     "data": {
      "text/html": [
       "<div>\n",
       "<table border=\"1\" class=\"dataframe\">\n",
       "  <thead>\n",
       "    <tr style=\"text-align: right;\">\n",
       "      <th></th>\n",
       "      <th>ticket_issued_date</th>\n",
       "      <th>hearing_date</th>\n",
       "      <th>fine_amount</th>\n",
       "      <th>admin_fee</th>\n",
       "      <th>state_fee</th>\n",
       "      <th>late_fee</th>\n",
       "      <th>discount_amount</th>\n",
       "      <th>clean_up_cost</th>\n",
       "      <th>judgment_amount</th>\n",
       "      <th>lat</th>\n",
       "      <th>lon</th>\n",
       "    </tr>\n",
       "    <tr>\n",
       "      <th>ticket_id</th>\n",
       "      <th></th>\n",
       "      <th></th>\n",
       "      <th></th>\n",
       "      <th></th>\n",
       "      <th></th>\n",
       "      <th></th>\n",
       "      <th></th>\n",
       "      <th></th>\n",
       "      <th></th>\n",
       "      <th></th>\n",
       "      <th></th>\n",
       "    </tr>\n",
       "  </thead>\n",
       "  <tbody>\n",
       "    <tr>\n",
       "      <th>22056</th>\n",
       "      <td>2004-03-16 11:40:00</td>\n",
       "      <td>2005-03-21 10:30:00</td>\n",
       "      <td>250.0</td>\n",
       "      <td>20.0</td>\n",
       "      <td>10.0</td>\n",
       "      <td>25.0</td>\n",
       "      <td>0.0</td>\n",
       "      <td>0.0</td>\n",
       "      <td>305.0</td>\n",
       "      <td>42.390729</td>\n",
       "      <td>-83.124268</td>\n",
       "    </tr>\n",
       "    <tr>\n",
       "      <th>27586</th>\n",
       "      <td>2004-04-23 12:30:00</td>\n",
       "      <td>2005-05-06 13:30:00</td>\n",
       "      <td>750.0</td>\n",
       "      <td>20.0</td>\n",
       "      <td>10.0</td>\n",
       "      <td>75.0</td>\n",
       "      <td>0.0</td>\n",
       "      <td>0.0</td>\n",
       "      <td>855.0</td>\n",
       "      <td>42.326937</td>\n",
       "      <td>-83.135118</td>\n",
       "    </tr>\n",
       "    <tr>\n",
       "      <th>22046</th>\n",
       "      <td>2004-05-01 11:50:00</td>\n",
       "      <td>2005-03-21 10:30:00</td>\n",
       "      <td>250.0</td>\n",
       "      <td>20.0</td>\n",
       "      <td>10.0</td>\n",
       "      <td>25.0</td>\n",
       "      <td>0.0</td>\n",
       "      <td>0.0</td>\n",
       "      <td>305.0</td>\n",
       "      <td>42.145257</td>\n",
       "      <td>-83.208233</td>\n",
       "    </tr>\n",
       "    <tr>\n",
       "      <th>18738</th>\n",
       "      <td>2004-06-14 14:15:00</td>\n",
       "      <td>2005-02-22 15:00:00</td>\n",
       "      <td>750.0</td>\n",
       "      <td>20.0</td>\n",
       "      <td>10.0</td>\n",
       "      <td>75.0</td>\n",
       "      <td>0.0</td>\n",
       "      <td>0.0</td>\n",
       "      <td>855.0</td>\n",
       "      <td>42.433466</td>\n",
       "      <td>-83.023493</td>\n",
       "    </tr>\n",
       "    <tr>\n",
       "      <th>18735</th>\n",
       "      <td>2004-06-16 12:30:00</td>\n",
       "      <td>2005-02-22 15:00:00</td>\n",
       "      <td>100.0</td>\n",
       "      <td>20.0</td>\n",
       "      <td>10.0</td>\n",
       "      <td>10.0</td>\n",
       "      <td>0.0</td>\n",
       "      <td>0.0</td>\n",
       "      <td>140.0</td>\n",
       "      <td>42.388641</td>\n",
       "      <td>-83.037858</td>\n",
       "    </tr>\n",
       "    <tr>\n",
       "      <th>18733</th>\n",
       "      <td>2004-06-16 12:25:00</td>\n",
       "      <td>2005-02-22 15:00:00</td>\n",
       "      <td>100.0</td>\n",
       "      <td>20.0</td>\n",
       "      <td>10.0</td>\n",
       "      <td>10.0</td>\n",
       "      <td>0.0</td>\n",
       "      <td>0.0</td>\n",
       "      <td>140.0</td>\n",
       "      <td>42.388641</td>\n",
       "      <td>-83.037858</td>\n",
       "    </tr>\n",
       "    <tr>\n",
       "      <th>28204</th>\n",
       "      <td>2004-07-12 13:30:00</td>\n",
       "      <td>2005-05-31 13:30:00</td>\n",
       "      <td>750.0</td>\n",
       "      <td>20.0</td>\n",
       "      <td>10.0</td>\n",
       "      <td>75.0</td>\n",
       "      <td>0.0</td>\n",
       "      <td>0.0</td>\n",
       "      <td>855.0</td>\n",
       "      <td>42.435773</td>\n",
       "      <td>-82.963348</td>\n",
       "    </tr>\n",
       "    <tr>\n",
       "      <th>18743</th>\n",
       "      <td>2004-07-28 12:15:00</td>\n",
       "      <td>2005-02-22 15:00:00</td>\n",
       "      <td>750.0</td>\n",
       "      <td>20.0</td>\n",
       "      <td>10.0</td>\n",
       "      <td>75.0</td>\n",
       "      <td>0.0</td>\n",
       "      <td>0.0</td>\n",
       "      <td>855.0</td>\n",
       "      <td>42.395765</td>\n",
       "      <td>-83.022333</td>\n",
       "    </tr>\n",
       "    <tr>\n",
       "      <th>18741</th>\n",
       "      <td>2004-08-05 15:00:00</td>\n",
       "      <td>2005-02-22 15:00:00</td>\n",
       "      <td>750.0</td>\n",
       "      <td>20.0</td>\n",
       "      <td>10.0</td>\n",
       "      <td>75.0</td>\n",
       "      <td>0.0</td>\n",
       "      <td>0.0</td>\n",
       "      <td>855.0</td>\n",
       "      <td>42.440190</td>\n",
       "      <td>-83.180488</td>\n",
       "    </tr>\n",
       "    <tr>\n",
       "      <th>18978</th>\n",
       "      <td>2004-08-23 14:15:00</td>\n",
       "      <td>2005-02-28 15:00:00</td>\n",
       "      <td>750.0</td>\n",
       "      <td>20.0</td>\n",
       "      <td>10.0</td>\n",
       "      <td>75.0</td>\n",
       "      <td>0.0</td>\n",
       "      <td>0.0</td>\n",
       "      <td>855.0</td>\n",
       "      <td>42.399222</td>\n",
       "      <td>-83.023161</td>\n",
       "    </tr>\n",
       "    <tr>\n",
       "      <th>18746</th>\n",
       "      <td>2004-10-07 12:00:00</td>\n",
       "      <td>2005-02-22 15:00:00</td>\n",
       "      <td>100.0</td>\n",
       "      <td>20.0</td>\n",
       "      <td>10.0</td>\n",
       "      <td>10.0</td>\n",
       "      <td>0.0</td>\n",
       "      <td>0.0</td>\n",
       "      <td>140.0</td>\n",
       "      <td>42.360836</td>\n",
       "      <td>-82.930958</td>\n",
       "    </tr>\n",
       "    <tr>\n",
       "      <th>18744</th>\n",
       "      <td>2004-10-07 12:00:00</td>\n",
       "      <td>2005-02-22 15:00:00</td>\n",
       "      <td>100.0</td>\n",
       "      <td>20.0</td>\n",
       "      <td>10.0</td>\n",
       "      <td>10.0</td>\n",
       "      <td>0.0</td>\n",
       "      <td>0.0</td>\n",
       "      <td>140.0</td>\n",
       "      <td>42.360836</td>\n",
       "      <td>-82.930958</td>\n",
       "    </tr>\n",
       "    <tr>\n",
       "      <th>26846</th>\n",
       "      <td>2004-10-13 02:45:00</td>\n",
       "      <td>2005-04-21 13:30:00</td>\n",
       "      <td>750.0</td>\n",
       "      <td>20.0</td>\n",
       "      <td>10.0</td>\n",
       "      <td>75.0</td>\n",
       "      <td>0.0</td>\n",
       "      <td>0.0</td>\n",
       "      <td>855.0</td>\n",
       "      <td>42.341729</td>\n",
       "      <td>-83.262245</td>\n",
       "    </tr>\n",
       "    <tr>\n",
       "      <th>26848</th>\n",
       "      <td>2004-10-13 14:15:00</td>\n",
       "      <td>2005-04-21 13:30:00</td>\n",
       "      <td>750.0</td>\n",
       "      <td>20.0</td>\n",
       "      <td>10.0</td>\n",
       "      <td>75.0</td>\n",
       "      <td>0.0</td>\n",
       "      <td>0.0</td>\n",
       "      <td>855.0</td>\n",
       "      <td>42.341620</td>\n",
       "      <td>-83.127416</td>\n",
       "    </tr>\n",
       "    <tr>\n",
       "      <th>28209</th>\n",
       "      <td>2004-10-28 11:00:00</td>\n",
       "      <td>2005-05-31 13:30:00</td>\n",
       "      <td>750.0</td>\n",
       "      <td>20.0</td>\n",
       "      <td>10.0</td>\n",
       "      <td>75.0</td>\n",
       "      <td>0.0</td>\n",
       "      <td>0.0</td>\n",
       "      <td>855.0</td>\n",
       "      <td>42.435592</td>\n",
       "      <td>-82.958282</td>\n",
       "    </tr>\n",
       "    <tr>\n",
       "      <th>19950</th>\n",
       "      <td>2005-01-01 11:00:00</td>\n",
       "      <td>2005-02-10 15:00:00</td>\n",
       "      <td>100.0</td>\n",
       "      <td>20.0</td>\n",
       "      <td>10.0</td>\n",
       "      <td>0.0</td>\n",
       "      <td>0.0</td>\n",
       "      <td>0.0</td>\n",
       "      <td>130.0</td>\n",
       "      <td>42.385741</td>\n",
       "      <td>-83.178017</td>\n",
       "    </tr>\n",
       "    <tr>\n",
       "      <th>18645</th>\n",
       "      <td>2005-01-13 14:00:00</td>\n",
       "      <td>2005-02-07 09:00:00</td>\n",
       "      <td>250.0</td>\n",
       "      <td>20.0</td>\n",
       "      <td>10.0</td>\n",
       "      <td>25.0</td>\n",
       "      <td>0.0</td>\n",
       "      <td>0.0</td>\n",
       "      <td>305.0</td>\n",
       "      <td>42.383385</td>\n",
       "      <td>-83.072582</td>\n",
       "    </tr>\n",
       "    <tr>\n",
       "      <th>18651</th>\n",
       "      <td>2005-01-14 14:25:00</td>\n",
       "      <td>2005-02-14 09:00:00</td>\n",
       "      <td>250.0</td>\n",
       "      <td>20.0</td>\n",
       "      <td>10.0</td>\n",
       "      <td>25.0</td>\n",
       "      <td>0.0</td>\n",
       "      <td>0.0</td>\n",
       "      <td>305.0</td>\n",
       "      <td>42.389290</td>\n",
       "      <td>-83.134006</td>\n",
       "    </tr>\n",
       "    <tr>\n",
       "      <th>18649</th>\n",
       "      <td>2005-01-14 14:50:00</td>\n",
       "      <td>2005-02-14 09:00:00</td>\n",
       "      <td>250.0</td>\n",
       "      <td>20.0</td>\n",
       "      <td>10.0</td>\n",
       "      <td>25.0</td>\n",
       "      <td>0.0</td>\n",
       "      <td>0.0</td>\n",
       "      <td>305.0</td>\n",
       "      <td>42.393440</td>\n",
       "      <td>-83.127929</td>\n",
       "    </tr>\n",
       "    <tr>\n",
       "      <th>18664</th>\n",
       "      <td>2005-01-14 09:30:00</td>\n",
       "      <td>2005-03-23 15:00:00</td>\n",
       "      <td>250.0</td>\n",
       "      <td>20.0</td>\n",
       "      <td>10.0</td>\n",
       "      <td>25.0</td>\n",
       "      <td>0.0</td>\n",
       "      <td>0.0</td>\n",
       "      <td>305.0</td>\n",
       "      <td>42.335224</td>\n",
       "      <td>-83.044366</td>\n",
       "    </tr>\n",
       "    <tr>\n",
       "      <th>18646</th>\n",
       "      <td>2005-01-14 00:45:00</td>\n",
       "      <td>2005-02-14 09:00:00</td>\n",
       "      <td>250.0</td>\n",
       "      <td>20.0</td>\n",
       "      <td>10.0</td>\n",
       "      <td>25.0</td>\n",
       "      <td>0.0</td>\n",
       "      <td>0.0</td>\n",
       "      <td>305.0</td>\n",
       "      <td>42.383422</td>\n",
       "      <td>-83.072483</td>\n",
       "    </tr>\n",
       "    <tr>\n",
       "      <th>18661</th>\n",
       "      <td>2005-01-14 10:15:00</td>\n",
       "      <td>2005-02-18 15:00:00</td>\n",
       "      <td>250.0</td>\n",
       "      <td>20.0</td>\n",
       "      <td>10.0</td>\n",
       "      <td>25.0</td>\n",
       "      <td>0.0</td>\n",
       "      <td>0.0</td>\n",
       "      <td>305.0</td>\n",
       "      <td>42.335128</td>\n",
       "      <td>-83.045639</td>\n",
       "    </tr>\n",
       "    <tr>\n",
       "      <th>18657</th>\n",
       "      <td>2005-01-14 10:00:00</td>\n",
       "      <td>2005-02-18 15:00:00</td>\n",
       "      <td>250.0</td>\n",
       "      <td>20.0</td>\n",
       "      <td>10.0</td>\n",
       "      <td>25.0</td>\n",
       "      <td>0.0</td>\n",
       "      <td>0.0</td>\n",
       "      <td>305.0</td>\n",
       "      <td>42.388282</td>\n",
       "      <td>-82.942000</td>\n",
       "    </tr>\n",
       "    <tr>\n",
       "      <th>18652</th>\n",
       "      <td>2005-01-14 15:10:00</td>\n",
       "      <td>2005-02-14 09:00:00</td>\n",
       "      <td>250.0</td>\n",
       "      <td>20.0</td>\n",
       "      <td>10.0</td>\n",
       "      <td>25.0</td>\n",
       "      <td>0.0</td>\n",
       "      <td>0.0</td>\n",
       "      <td>305.0</td>\n",
       "      <td>42.374155</td>\n",
       "      <td>-83.036099</td>\n",
       "    </tr>\n",
       "    <tr>\n",
       "      <th>18665</th>\n",
       "      <td>2005-01-14 10:35:00</td>\n",
       "      <td>2005-02-18 15:00:00</td>\n",
       "      <td>250.0</td>\n",
       "      <td>20.0</td>\n",
       "      <td>10.0</td>\n",
       "      <td>25.0</td>\n",
       "      <td>0.0</td>\n",
       "      <td>0.0</td>\n",
       "      <td>305.0</td>\n",
       "      <td>42.335913</td>\n",
       "      <td>-83.047223</td>\n",
       "    </tr>\n",
       "    <tr>\n",
       "      <th>18650</th>\n",
       "      <td>2005-01-14 14:05:00</td>\n",
       "      <td>2005-02-14 09:00:00</td>\n",
       "      <td>250.0</td>\n",
       "      <td>20.0</td>\n",
       "      <td>10.0</td>\n",
       "      <td>25.0</td>\n",
       "      <td>0.0</td>\n",
       "      <td>0.0</td>\n",
       "      <td>305.0</td>\n",
       "      <td>42.389689</td>\n",
       "      <td>-83.134415</td>\n",
       "    </tr>\n",
       "    <tr>\n",
       "      <th>18653</th>\n",
       "      <td>2005-01-14 15:15:00</td>\n",
       "      <td>2005-02-23 09:00:00</td>\n",
       "      <td>250.0</td>\n",
       "      <td>20.0</td>\n",
       "      <td>10.0</td>\n",
       "      <td>0.0</td>\n",
       "      <td>25.0</td>\n",
       "      <td>0.0</td>\n",
       "      <td>280.0</td>\n",
       "      <td>42.339391</td>\n",
       "      <td>-83.019373</td>\n",
       "    </tr>\n",
       "    <tr>\n",
       "      <th>18658</th>\n",
       "      <td>2005-01-14 10:00:00</td>\n",
       "      <td>2005-02-04 13:30:00</td>\n",
       "      <td>250.0</td>\n",
       "      <td>20.0</td>\n",
       "      <td>10.0</td>\n",
       "      <td>0.0</td>\n",
       "      <td>0.0</td>\n",
       "      <td>0.0</td>\n",
       "      <td>280.0</td>\n",
       "      <td>42.371792</td>\n",
       "      <td>-82.946057</td>\n",
       "    </tr>\n",
       "    <tr>\n",
       "      <th>18666</th>\n",
       "      <td>2005-01-14 10:40:00</td>\n",
       "      <td>2005-02-18 15:00:00</td>\n",
       "      <td>250.0</td>\n",
       "      <td>20.0</td>\n",
       "      <td>10.0</td>\n",
       "      <td>25.0</td>\n",
       "      <td>0.0</td>\n",
       "      <td>0.0</td>\n",
       "      <td>305.0</td>\n",
       "      <td>42.335846</td>\n",
       "      <td>-83.043858</td>\n",
       "    </tr>\n",
       "    <tr>\n",
       "      <th>18655</th>\n",
       "      <td>2005-01-14 15:40:00</td>\n",
       "      <td>2005-02-14 09:00:00</td>\n",
       "      <td>250.0</td>\n",
       "      <td>20.0</td>\n",
       "      <td>10.0</td>\n",
       "      <td>0.0</td>\n",
       "      <td>25.0</td>\n",
       "      <td>0.0</td>\n",
       "      <td>280.0</td>\n",
       "      <td>42.382392</td>\n",
       "      <td>-83.083671</td>\n",
       "    </tr>\n",
       "    <tr>\n",
       "      <th>...</th>\n",
       "      <td>...</td>\n",
       "      <td>...</td>\n",
       "      <td>...</td>\n",
       "      <td>...</td>\n",
       "      <td>...</td>\n",
       "      <td>...</td>\n",
       "      <td>...</td>\n",
       "      <td>...</td>\n",
       "      <td>...</td>\n",
       "      <td>...</td>\n",
       "      <td>...</td>\n",
       "    </tr>\n",
       "    <tr>\n",
       "      <th>268081</th>\n",
       "      <td>2011-12-22 09:00:00</td>\n",
       "      <td>2011-03-17 15:00:00</td>\n",
       "      <td>750.0</td>\n",
       "      <td>20.0</td>\n",
       "      <td>10.0</td>\n",
       "      <td>75.0</td>\n",
       "      <td>0.0</td>\n",
       "      <td>0.0</td>\n",
       "      <td>855.0</td>\n",
       "      <td>42.357540</td>\n",
       "      <td>-83.237964</td>\n",
       "    </tr>\n",
       "    <tr>\n",
       "      <th>267964</th>\n",
       "      <td>2011-12-22 09:00:00</td>\n",
       "      <td>2011-05-12 15:00:00</td>\n",
       "      <td>250.0</td>\n",
       "      <td>20.0</td>\n",
       "      <td>10.0</td>\n",
       "      <td>25.0</td>\n",
       "      <td>0.0</td>\n",
       "      <td>0.0</td>\n",
       "      <td>305.0</td>\n",
       "      <td>42.385938</td>\n",
       "      <td>-83.238301</td>\n",
       "    </tr>\n",
       "    <tr>\n",
       "      <th>267966</th>\n",
       "      <td>2011-12-22 09:00:00</td>\n",
       "      <td>2011-03-02 15:00:00</td>\n",
       "      <td>250.0</td>\n",
       "      <td>20.0</td>\n",
       "      <td>10.0</td>\n",
       "      <td>0.0</td>\n",
       "      <td>0.0</td>\n",
       "      <td>0.0</td>\n",
       "      <td>280.0</td>\n",
       "      <td>42.369046</td>\n",
       "      <td>-83.183197</td>\n",
       "    </tr>\n",
       "    <tr>\n",
       "      <th>267974</th>\n",
       "      <td>2011-12-22 09:00:00</td>\n",
       "      <td>2011-03-17 15:00:00</td>\n",
       "      <td>500.0</td>\n",
       "      <td>20.0</td>\n",
       "      <td>10.0</td>\n",
       "      <td>50.0</td>\n",
       "      <td>0.0</td>\n",
       "      <td>0.0</td>\n",
       "      <td>580.0</td>\n",
       "      <td>42.368735</td>\n",
       "      <td>-83.172476</td>\n",
       "    </tr>\n",
       "    <tr>\n",
       "      <th>267985</th>\n",
       "      <td>2011-12-22 09:00:00</td>\n",
       "      <td>2011-03-17 15:00:00</td>\n",
       "      <td>250.0</td>\n",
       "      <td>20.0</td>\n",
       "      <td>10.0</td>\n",
       "      <td>25.0</td>\n",
       "      <td>0.0</td>\n",
       "      <td>0.0</td>\n",
       "      <td>305.0</td>\n",
       "      <td>42.368735</td>\n",
       "      <td>-83.172476</td>\n",
       "    </tr>\n",
       "    <tr>\n",
       "      <th>267970</th>\n",
       "      <td>2011-12-22 09:00:00</td>\n",
       "      <td>2011-03-03 15:00:00</td>\n",
       "      <td>250.0</td>\n",
       "      <td>20.0</td>\n",
       "      <td>10.0</td>\n",
       "      <td>25.0</td>\n",
       "      <td>0.0</td>\n",
       "      <td>0.0</td>\n",
       "      <td>305.0</td>\n",
       "      <td>42.368735</td>\n",
       "      <td>-83.172476</td>\n",
       "    </tr>\n",
       "    <tr>\n",
       "      <th>284870</th>\n",
       "      <td>2011-12-23 15:00:00</td>\n",
       "      <td>2012-01-06 10:30:00</td>\n",
       "      <td>1000.0</td>\n",
       "      <td>20.0</td>\n",
       "      <td>10.0</td>\n",
       "      <td>100.0</td>\n",
       "      <td>0.0</td>\n",
       "      <td>0.0</td>\n",
       "      <td>1130.0</td>\n",
       "      <td>42.424312</td>\n",
       "      <td>-83.027929</td>\n",
       "    </tr>\n",
       "    <tr>\n",
       "      <th>284873</th>\n",
       "      <td>2011-12-24 11:30:00</td>\n",
       "      <td>2012-01-13 10:30:00</td>\n",
       "      <td>1000.0</td>\n",
       "      <td>20.0</td>\n",
       "      <td>10.0</td>\n",
       "      <td>100.0</td>\n",
       "      <td>0.0</td>\n",
       "      <td>0.0</td>\n",
       "      <td>1130.0</td>\n",
       "      <td>42.439131</td>\n",
       "      <td>-83.070548</td>\n",
       "    </tr>\n",
       "    <tr>\n",
       "      <th>284871</th>\n",
       "      <td>2011-12-24 11:30:00</td>\n",
       "      <td>2012-01-13 10:30:00</td>\n",
       "      <td>1000.0</td>\n",
       "      <td>20.0</td>\n",
       "      <td>10.0</td>\n",
       "      <td>100.0</td>\n",
       "      <td>0.0</td>\n",
       "      <td>0.0</td>\n",
       "      <td>1130.0</td>\n",
       "      <td>42.439143</td>\n",
       "      <td>-83.070182</td>\n",
       "    </tr>\n",
       "    <tr>\n",
       "      <th>284875</th>\n",
       "      <td>2011-12-24 11:30:00</td>\n",
       "      <td>2012-01-13 10:30:00</td>\n",
       "      <td>100.0</td>\n",
       "      <td>20.0</td>\n",
       "      <td>10.0</td>\n",
       "      <td>10.0</td>\n",
       "      <td>0.0</td>\n",
       "      <td>0.0</td>\n",
       "      <td>140.0</td>\n",
       "      <td>42.439131</td>\n",
       "      <td>-83.070548</td>\n",
       "    </tr>\n",
       "    <tr>\n",
       "      <th>284874</th>\n",
       "      <td>2011-12-24 11:30:00</td>\n",
       "      <td>2012-01-13 10:30:00</td>\n",
       "      <td>100.0</td>\n",
       "      <td>20.0</td>\n",
       "      <td>10.0</td>\n",
       "      <td>10.0</td>\n",
       "      <td>0.0</td>\n",
       "      <td>0.0</td>\n",
       "      <td>140.0</td>\n",
       "      <td>42.439131</td>\n",
       "      <td>-83.070548</td>\n",
       "    </tr>\n",
       "    <tr>\n",
       "      <th>285091</th>\n",
       "      <td>2011-12-27 12:55:00</td>\n",
       "      <td>2012-01-27 09:00:00</td>\n",
       "      <td>50.0</td>\n",
       "      <td>20.0</td>\n",
       "      <td>10.0</td>\n",
       "      <td>5.0</td>\n",
       "      <td>0.0</td>\n",
       "      <td>0.0</td>\n",
       "      <td>85.0</td>\n",
       "      <td>42.394788</td>\n",
       "      <td>-83.214473</td>\n",
       "    </tr>\n",
       "    <tr>\n",
       "      <th>285508</th>\n",
       "      <td>2011-12-27 13:00:00</td>\n",
       "      <td>2012-02-10 09:00:00</td>\n",
       "      <td>0.0</td>\n",
       "      <td>20.0</td>\n",
       "      <td>10.0</td>\n",
       "      <td>0.0</td>\n",
       "      <td>0.0</td>\n",
       "      <td>0.0</td>\n",
       "      <td>0.0</td>\n",
       "      <td>42.393397</td>\n",
       "      <td>-83.211176</td>\n",
       "    </tr>\n",
       "    <tr>\n",
       "      <th>285093</th>\n",
       "      <td>2011-12-27 13:10:00</td>\n",
       "      <td>2012-01-27 09:00:00</td>\n",
       "      <td>50.0</td>\n",
       "      <td>20.0</td>\n",
       "      <td>10.0</td>\n",
       "      <td>5.0</td>\n",
       "      <td>0.0</td>\n",
       "      <td>0.0</td>\n",
       "      <td>85.0</td>\n",
       "      <td>42.387270</td>\n",
       "      <td>-83.208856</td>\n",
       "    </tr>\n",
       "    <tr>\n",
       "      <th>285095</th>\n",
       "      <td>2011-12-27 13:10:00</td>\n",
       "      <td>2012-01-27 09:00:00</td>\n",
       "      <td>50.0</td>\n",
       "      <td>20.0</td>\n",
       "      <td>10.0</td>\n",
       "      <td>5.0</td>\n",
       "      <td>0.0</td>\n",
       "      <td>0.0</td>\n",
       "      <td>85.0</td>\n",
       "      <td>42.387270</td>\n",
       "      <td>-83.208856</td>\n",
       "    </tr>\n",
       "    <tr>\n",
       "      <th>285121</th>\n",
       "      <td>2011-12-27 13:10:00</td>\n",
       "      <td>2012-02-03 09:00:00</td>\n",
       "      <td>50.0</td>\n",
       "      <td>20.0</td>\n",
       "      <td>10.0</td>\n",
       "      <td>5.0</td>\n",
       "      <td>0.0</td>\n",
       "      <td>0.0</td>\n",
       "      <td>85.0</td>\n",
       "      <td>42.387270</td>\n",
       "      <td>-83.208856</td>\n",
       "    </tr>\n",
       "    <tr>\n",
       "      <th>285122</th>\n",
       "      <td>2011-12-27 13:10:00</td>\n",
       "      <td>2012-02-03 09:00:00</td>\n",
       "      <td>50.0</td>\n",
       "      <td>20.0</td>\n",
       "      <td>10.0</td>\n",
       "      <td>5.0</td>\n",
       "      <td>0.0</td>\n",
       "      <td>0.0</td>\n",
       "      <td>85.0</td>\n",
       "      <td>42.387270</td>\n",
       "      <td>-83.208856</td>\n",
       "    </tr>\n",
       "    <tr>\n",
       "      <th>285120</th>\n",
       "      <td>2011-12-27 13:10:00</td>\n",
       "      <td>2012-02-03 09:00:00</td>\n",
       "      <td>50.0</td>\n",
       "      <td>20.0</td>\n",
       "      <td>10.0</td>\n",
       "      <td>5.0</td>\n",
       "      <td>0.0</td>\n",
       "      <td>0.0</td>\n",
       "      <td>85.0</td>\n",
       "      <td>42.387270</td>\n",
       "      <td>-83.208856</td>\n",
       "    </tr>\n",
       "    <tr>\n",
       "      <th>285123</th>\n",
       "      <td>2011-12-27 13:10:00</td>\n",
       "      <td>2012-02-03 09:00:00</td>\n",
       "      <td>50.0</td>\n",
       "      <td>20.0</td>\n",
       "      <td>10.0</td>\n",
       "      <td>5.0</td>\n",
       "      <td>0.0</td>\n",
       "      <td>0.0</td>\n",
       "      <td>85.0</td>\n",
       "      <td>42.387270</td>\n",
       "      <td>-83.208856</td>\n",
       "    </tr>\n",
       "    <tr>\n",
       "      <th>285092</th>\n",
       "      <td>2011-12-27 13:10:00</td>\n",
       "      <td>2012-01-27 09:00:00</td>\n",
       "      <td>50.0</td>\n",
       "      <td>20.0</td>\n",
       "      <td>10.0</td>\n",
       "      <td>5.0</td>\n",
       "      <td>0.0</td>\n",
       "      <td>0.0</td>\n",
       "      <td>85.0</td>\n",
       "      <td>42.387270</td>\n",
       "      <td>-83.208856</td>\n",
       "    </tr>\n",
       "    <tr>\n",
       "      <th>285094</th>\n",
       "      <td>2011-12-27 13:10:00</td>\n",
       "      <td>2012-01-27 09:00:00</td>\n",
       "      <td>50.0</td>\n",
       "      <td>20.0</td>\n",
       "      <td>10.0</td>\n",
       "      <td>5.0</td>\n",
       "      <td>0.0</td>\n",
       "      <td>0.0</td>\n",
       "      <td>85.0</td>\n",
       "      <td>42.387270</td>\n",
       "      <td>-83.208856</td>\n",
       "    </tr>\n",
       "    <tr>\n",
       "      <th>285096</th>\n",
       "      <td>2011-12-27 13:10:00</td>\n",
       "      <td>2012-01-27 09:00:00</td>\n",
       "      <td>1000.0</td>\n",
       "      <td>20.0</td>\n",
       "      <td>10.0</td>\n",
       "      <td>100.0</td>\n",
       "      <td>0.0</td>\n",
       "      <td>0.0</td>\n",
       "      <td>1130.0</td>\n",
       "      <td>42.387270</td>\n",
       "      <td>-83.208856</td>\n",
       "    </tr>\n",
       "    <tr>\n",
       "      <th>285036</th>\n",
       "      <td>2011-12-27 13:35:00</td>\n",
       "      <td>2012-01-26 09:00:00</td>\n",
       "      <td>50.0</td>\n",
       "      <td>20.0</td>\n",
       "      <td>10.0</td>\n",
       "      <td>5.0</td>\n",
       "      <td>0.0</td>\n",
       "      <td>0.0</td>\n",
       "      <td>85.0</td>\n",
       "      <td>42.387270</td>\n",
       "      <td>-83.208856</td>\n",
       "    </tr>\n",
       "    <tr>\n",
       "      <th>285037</th>\n",
       "      <td>2011-12-27 13:35:00</td>\n",
       "      <td>2012-01-26 09:00:00</td>\n",
       "      <td>100.0</td>\n",
       "      <td>20.0</td>\n",
       "      <td>10.0</td>\n",
       "      <td>10.0</td>\n",
       "      <td>0.0</td>\n",
       "      <td>0.0</td>\n",
       "      <td>140.0</td>\n",
       "      <td>42.387270</td>\n",
       "      <td>-83.208856</td>\n",
       "    </tr>\n",
       "    <tr>\n",
       "      <th>285034</th>\n",
       "      <td>2011-12-27 13:35:00</td>\n",
       "      <td>2012-01-26 10:30:00</td>\n",
       "      <td>500.0</td>\n",
       "      <td>20.0</td>\n",
       "      <td>10.0</td>\n",
       "      <td>50.0</td>\n",
       "      <td>0.0</td>\n",
       "      <td>0.0</td>\n",
       "      <td>580.0</td>\n",
       "      <td>42.387270</td>\n",
       "      <td>-83.208856</td>\n",
       "    </tr>\n",
       "    <tr>\n",
       "      <th>285106</th>\n",
       "      <td>2011-12-27 14:50:00</td>\n",
       "      <td>2012-02-03 09:00:00</td>\n",
       "      <td>200.0</td>\n",
       "      <td>20.0</td>\n",
       "      <td>10.0</td>\n",
       "      <td>20.0</td>\n",
       "      <td>0.0</td>\n",
       "      <td>0.0</td>\n",
       "      <td>250.0</td>\n",
       "      <td>42.440228</td>\n",
       "      <td>-83.154829</td>\n",
       "    </tr>\n",
       "    <tr>\n",
       "      <th>284650</th>\n",
       "      <td>2011-12-29 09:50:00</td>\n",
       "      <td>2012-01-09 09:00:00</td>\n",
       "      <td>1000.0</td>\n",
       "      <td>20.0</td>\n",
       "      <td>10.0</td>\n",
       "      <td>100.0</td>\n",
       "      <td>0.0</td>\n",
       "      <td>0.0</td>\n",
       "      <td>1130.0</td>\n",
       "      <td>42.406293</td>\n",
       "      <td>-83.171850</td>\n",
       "    </tr>\n",
       "    <tr>\n",
       "      <th>285125</th>\n",
       "      <td>2011-12-29 09:30:00</td>\n",
       "      <td>2012-01-25 09:00:00</td>\n",
       "      <td>500.0</td>\n",
       "      <td>20.0</td>\n",
       "      <td>10.0</td>\n",
       "      <td>50.0</td>\n",
       "      <td>0.0</td>\n",
       "      <td>0.0</td>\n",
       "      <td>580.0</td>\n",
       "      <td>42.366529</td>\n",
       "      <td>-83.141897</td>\n",
       "    </tr>\n",
       "    <tr>\n",
       "      <th>284881</th>\n",
       "      <td>2011-12-29 11:30:00</td>\n",
       "      <td>2012-02-07 13:30:00</td>\n",
       "      <td>200.0</td>\n",
       "      <td>20.0</td>\n",
       "      <td>10.0</td>\n",
       "      <td>0.0</td>\n",
       "      <td>0.0</td>\n",
       "      <td>0.0</td>\n",
       "      <td>230.0</td>\n",
       "      <td>42.422081</td>\n",
       "      <td>-83.038656</td>\n",
       "    </tr>\n",
       "    <tr>\n",
       "      <th>284333</th>\n",
       "      <td>2011-12-30 14:20:00</td>\n",
       "      <td>2012-01-05 09:00:00</td>\n",
       "      <td>200.0</td>\n",
       "      <td>20.0</td>\n",
       "      <td>10.0</td>\n",
       "      <td>20.0</td>\n",
       "      <td>0.0</td>\n",
       "      <td>0.0</td>\n",
       "      <td>250.0</td>\n",
       "      <td>42.438867</td>\n",
       "      <td>-82.959888</td>\n",
       "    </tr>\n",
       "  </tbody>\n",
       "</table>\n",
       "<p>159880 rows × 11 columns</p>\n",
       "</div>"
      ],
      "text/plain": [
       "           ticket_issued_date        hearing_date  fine_amount  admin_fee  \\\n",
       "ticket_id                                                                   \n",
       "22056     2004-03-16 11:40:00 2005-03-21 10:30:00        250.0       20.0   \n",
       "27586     2004-04-23 12:30:00 2005-05-06 13:30:00        750.0       20.0   \n",
       "22046     2004-05-01 11:50:00 2005-03-21 10:30:00        250.0       20.0   \n",
       "18738     2004-06-14 14:15:00 2005-02-22 15:00:00        750.0       20.0   \n",
       "18735     2004-06-16 12:30:00 2005-02-22 15:00:00        100.0       20.0   \n",
       "18733     2004-06-16 12:25:00 2005-02-22 15:00:00        100.0       20.0   \n",
       "28204     2004-07-12 13:30:00 2005-05-31 13:30:00        750.0       20.0   \n",
       "18743     2004-07-28 12:15:00 2005-02-22 15:00:00        750.0       20.0   \n",
       "18741     2004-08-05 15:00:00 2005-02-22 15:00:00        750.0       20.0   \n",
       "18978     2004-08-23 14:15:00 2005-02-28 15:00:00        750.0       20.0   \n",
       "18746     2004-10-07 12:00:00 2005-02-22 15:00:00        100.0       20.0   \n",
       "18744     2004-10-07 12:00:00 2005-02-22 15:00:00        100.0       20.0   \n",
       "26846     2004-10-13 02:45:00 2005-04-21 13:30:00        750.0       20.0   \n",
       "26848     2004-10-13 14:15:00 2005-04-21 13:30:00        750.0       20.0   \n",
       "28209     2004-10-28 11:00:00 2005-05-31 13:30:00        750.0       20.0   \n",
       "19950     2005-01-01 11:00:00 2005-02-10 15:00:00        100.0       20.0   \n",
       "18645     2005-01-13 14:00:00 2005-02-07 09:00:00        250.0       20.0   \n",
       "18651     2005-01-14 14:25:00 2005-02-14 09:00:00        250.0       20.0   \n",
       "18649     2005-01-14 14:50:00 2005-02-14 09:00:00        250.0       20.0   \n",
       "18664     2005-01-14 09:30:00 2005-03-23 15:00:00        250.0       20.0   \n",
       "18646     2005-01-14 00:45:00 2005-02-14 09:00:00        250.0       20.0   \n",
       "18661     2005-01-14 10:15:00 2005-02-18 15:00:00        250.0       20.0   \n",
       "18657     2005-01-14 10:00:00 2005-02-18 15:00:00        250.0       20.0   \n",
       "18652     2005-01-14 15:10:00 2005-02-14 09:00:00        250.0       20.0   \n",
       "18665     2005-01-14 10:35:00 2005-02-18 15:00:00        250.0       20.0   \n",
       "18650     2005-01-14 14:05:00 2005-02-14 09:00:00        250.0       20.0   \n",
       "18653     2005-01-14 15:15:00 2005-02-23 09:00:00        250.0       20.0   \n",
       "18658     2005-01-14 10:00:00 2005-02-04 13:30:00        250.0       20.0   \n",
       "18666     2005-01-14 10:40:00 2005-02-18 15:00:00        250.0       20.0   \n",
       "18655     2005-01-14 15:40:00 2005-02-14 09:00:00        250.0       20.0   \n",
       "...                       ...                 ...          ...        ...   \n",
       "268081    2011-12-22 09:00:00 2011-03-17 15:00:00        750.0       20.0   \n",
       "267964    2011-12-22 09:00:00 2011-05-12 15:00:00        250.0       20.0   \n",
       "267966    2011-12-22 09:00:00 2011-03-02 15:00:00        250.0       20.0   \n",
       "267974    2011-12-22 09:00:00 2011-03-17 15:00:00        500.0       20.0   \n",
       "267985    2011-12-22 09:00:00 2011-03-17 15:00:00        250.0       20.0   \n",
       "267970    2011-12-22 09:00:00 2011-03-03 15:00:00        250.0       20.0   \n",
       "284870    2011-12-23 15:00:00 2012-01-06 10:30:00       1000.0       20.0   \n",
       "284873    2011-12-24 11:30:00 2012-01-13 10:30:00       1000.0       20.0   \n",
       "284871    2011-12-24 11:30:00 2012-01-13 10:30:00       1000.0       20.0   \n",
       "284875    2011-12-24 11:30:00 2012-01-13 10:30:00        100.0       20.0   \n",
       "284874    2011-12-24 11:30:00 2012-01-13 10:30:00        100.0       20.0   \n",
       "285091    2011-12-27 12:55:00 2012-01-27 09:00:00         50.0       20.0   \n",
       "285508    2011-12-27 13:00:00 2012-02-10 09:00:00          0.0       20.0   \n",
       "285093    2011-12-27 13:10:00 2012-01-27 09:00:00         50.0       20.0   \n",
       "285095    2011-12-27 13:10:00 2012-01-27 09:00:00         50.0       20.0   \n",
       "285121    2011-12-27 13:10:00 2012-02-03 09:00:00         50.0       20.0   \n",
       "285122    2011-12-27 13:10:00 2012-02-03 09:00:00         50.0       20.0   \n",
       "285120    2011-12-27 13:10:00 2012-02-03 09:00:00         50.0       20.0   \n",
       "285123    2011-12-27 13:10:00 2012-02-03 09:00:00         50.0       20.0   \n",
       "285092    2011-12-27 13:10:00 2012-01-27 09:00:00         50.0       20.0   \n",
       "285094    2011-12-27 13:10:00 2012-01-27 09:00:00         50.0       20.0   \n",
       "285096    2011-12-27 13:10:00 2012-01-27 09:00:00       1000.0       20.0   \n",
       "285036    2011-12-27 13:35:00 2012-01-26 09:00:00         50.0       20.0   \n",
       "285037    2011-12-27 13:35:00 2012-01-26 09:00:00        100.0       20.0   \n",
       "285034    2011-12-27 13:35:00 2012-01-26 10:30:00        500.0       20.0   \n",
       "285106    2011-12-27 14:50:00 2012-02-03 09:00:00        200.0       20.0   \n",
       "284650    2011-12-29 09:50:00 2012-01-09 09:00:00       1000.0       20.0   \n",
       "285125    2011-12-29 09:30:00 2012-01-25 09:00:00        500.0       20.0   \n",
       "284881    2011-12-29 11:30:00 2012-02-07 13:30:00        200.0       20.0   \n",
       "284333    2011-12-30 14:20:00 2012-01-05 09:00:00        200.0       20.0   \n",
       "\n",
       "           state_fee  late_fee  discount_amount  clean_up_cost  \\\n",
       "ticket_id                                                        \n",
       "22056           10.0      25.0              0.0            0.0   \n",
       "27586           10.0      75.0              0.0            0.0   \n",
       "22046           10.0      25.0              0.0            0.0   \n",
       "18738           10.0      75.0              0.0            0.0   \n",
       "18735           10.0      10.0              0.0            0.0   \n",
       "18733           10.0      10.0              0.0            0.0   \n",
       "28204           10.0      75.0              0.0            0.0   \n",
       "18743           10.0      75.0              0.0            0.0   \n",
       "18741           10.0      75.0              0.0            0.0   \n",
       "18978           10.0      75.0              0.0            0.0   \n",
       "18746           10.0      10.0              0.0            0.0   \n",
       "18744           10.0      10.0              0.0            0.0   \n",
       "26846           10.0      75.0              0.0            0.0   \n",
       "26848           10.0      75.0              0.0            0.0   \n",
       "28209           10.0      75.0              0.0            0.0   \n",
       "19950           10.0       0.0              0.0            0.0   \n",
       "18645           10.0      25.0              0.0            0.0   \n",
       "18651           10.0      25.0              0.0            0.0   \n",
       "18649           10.0      25.0              0.0            0.0   \n",
       "18664           10.0      25.0              0.0            0.0   \n",
       "18646           10.0      25.0              0.0            0.0   \n",
       "18661           10.0      25.0              0.0            0.0   \n",
       "18657           10.0      25.0              0.0            0.0   \n",
       "18652           10.0      25.0              0.0            0.0   \n",
       "18665           10.0      25.0              0.0            0.0   \n",
       "18650           10.0      25.0              0.0            0.0   \n",
       "18653           10.0       0.0             25.0            0.0   \n",
       "18658           10.0       0.0              0.0            0.0   \n",
       "18666           10.0      25.0              0.0            0.0   \n",
       "18655           10.0       0.0             25.0            0.0   \n",
       "...              ...       ...              ...            ...   \n",
       "268081          10.0      75.0              0.0            0.0   \n",
       "267964          10.0      25.0              0.0            0.0   \n",
       "267966          10.0       0.0              0.0            0.0   \n",
       "267974          10.0      50.0              0.0            0.0   \n",
       "267985          10.0      25.0              0.0            0.0   \n",
       "267970          10.0      25.0              0.0            0.0   \n",
       "284870          10.0     100.0              0.0            0.0   \n",
       "284873          10.0     100.0              0.0            0.0   \n",
       "284871          10.0     100.0              0.0            0.0   \n",
       "284875          10.0      10.0              0.0            0.0   \n",
       "284874          10.0      10.0              0.0            0.0   \n",
       "285091          10.0       5.0              0.0            0.0   \n",
       "285508          10.0       0.0              0.0            0.0   \n",
       "285093          10.0       5.0              0.0            0.0   \n",
       "285095          10.0       5.0              0.0            0.0   \n",
       "285121          10.0       5.0              0.0            0.0   \n",
       "285122          10.0       5.0              0.0            0.0   \n",
       "285120          10.0       5.0              0.0            0.0   \n",
       "285123          10.0       5.0              0.0            0.0   \n",
       "285092          10.0       5.0              0.0            0.0   \n",
       "285094          10.0       5.0              0.0            0.0   \n",
       "285096          10.0     100.0              0.0            0.0   \n",
       "285036          10.0       5.0              0.0            0.0   \n",
       "285037          10.0      10.0              0.0            0.0   \n",
       "285034          10.0      50.0              0.0            0.0   \n",
       "285106          10.0      20.0              0.0            0.0   \n",
       "284650          10.0     100.0              0.0            0.0   \n",
       "285125          10.0      50.0              0.0            0.0   \n",
       "284881          10.0       0.0              0.0            0.0   \n",
       "284333          10.0      20.0              0.0            0.0   \n",
       "\n",
       "           judgment_amount        lat        lon  \n",
       "ticket_id                                         \n",
       "22056                305.0  42.390729 -83.124268  \n",
       "27586                855.0  42.326937 -83.135118  \n",
       "22046                305.0  42.145257 -83.208233  \n",
       "18738                855.0  42.433466 -83.023493  \n",
       "18735                140.0  42.388641 -83.037858  \n",
       "18733                140.0  42.388641 -83.037858  \n",
       "28204                855.0  42.435773 -82.963348  \n",
       "18743                855.0  42.395765 -83.022333  \n",
       "18741                855.0  42.440190 -83.180488  \n",
       "18978                855.0  42.399222 -83.023161  \n",
       "18746                140.0  42.360836 -82.930958  \n",
       "18744                140.0  42.360836 -82.930958  \n",
       "26846                855.0  42.341729 -83.262245  \n",
       "26848                855.0  42.341620 -83.127416  \n",
       "28209                855.0  42.435592 -82.958282  \n",
       "19950                130.0  42.385741 -83.178017  \n",
       "18645                305.0  42.383385 -83.072582  \n",
       "18651                305.0  42.389290 -83.134006  \n",
       "18649                305.0  42.393440 -83.127929  \n",
       "18664                305.0  42.335224 -83.044366  \n",
       "18646                305.0  42.383422 -83.072483  \n",
       "18661                305.0  42.335128 -83.045639  \n",
       "18657                305.0  42.388282 -82.942000  \n",
       "18652                305.0  42.374155 -83.036099  \n",
       "18665                305.0  42.335913 -83.047223  \n",
       "18650                305.0  42.389689 -83.134415  \n",
       "18653                280.0  42.339391 -83.019373  \n",
       "18658                280.0  42.371792 -82.946057  \n",
       "18666                305.0  42.335846 -83.043858  \n",
       "18655                280.0  42.382392 -83.083671  \n",
       "...                    ...        ...        ...  \n",
       "268081               855.0  42.357540 -83.237964  \n",
       "267964               305.0  42.385938 -83.238301  \n",
       "267966               280.0  42.369046 -83.183197  \n",
       "267974               580.0  42.368735 -83.172476  \n",
       "267985               305.0  42.368735 -83.172476  \n",
       "267970               305.0  42.368735 -83.172476  \n",
       "284870              1130.0  42.424312 -83.027929  \n",
       "284873              1130.0  42.439131 -83.070548  \n",
       "284871              1130.0  42.439143 -83.070182  \n",
       "284875               140.0  42.439131 -83.070548  \n",
       "284874               140.0  42.439131 -83.070548  \n",
       "285091                85.0  42.394788 -83.214473  \n",
       "285508                 0.0  42.393397 -83.211176  \n",
       "285093                85.0  42.387270 -83.208856  \n",
       "285095                85.0  42.387270 -83.208856  \n",
       "285121                85.0  42.387270 -83.208856  \n",
       "285122                85.0  42.387270 -83.208856  \n",
       "285120                85.0  42.387270 -83.208856  \n",
       "285123                85.0  42.387270 -83.208856  \n",
       "285092                85.0  42.387270 -83.208856  \n",
       "285094                85.0  42.387270 -83.208856  \n",
       "285096              1130.0  42.387270 -83.208856  \n",
       "285036                85.0  42.387270 -83.208856  \n",
       "285037               140.0  42.387270 -83.208856  \n",
       "285034               580.0  42.387270 -83.208856  \n",
       "285106               250.0  42.440228 -83.154829  \n",
       "284650              1130.0  42.406293 -83.171850  \n",
       "285125               580.0  42.366529 -83.141897  \n",
       "284881               230.0  42.422081 -83.038656  \n",
       "284333               250.0  42.438867 -82.959888  \n",
       "\n",
       "[159880 rows x 11 columns]"
      ]
     },
     "execution_count": 75,
     "metadata": {},
     "output_type": "execute_result"
    }
   ],
   "source": [
    "train1"
   ]
  },
  {
   "cell_type": "code",
   "execution_count": 78,
   "metadata": {
    "collapsed": false
   },
   "outputs": [
    {
     "data": {
      "text/plain": [
       "ticket_id\n",
       "22056    0.0\n",
       "27586    1.0\n",
       "Name: compliance, dtype: float64"
      ]
     },
     "execution_count": 78,
     "metadata": {},
     "output_type": "execute_result"
    }
   ],
   "source": [
    "y_train1.head(2)"
   ]
  },
  {
   "cell_type": "code",
   "execution_count": 80,
   "metadata": {
    "collapsed": false
   },
   "outputs": [
    {
     "data": {
      "text/plain": [
       "Index(['ticket_issued_date', 'hearing_date', 'fine_amount', 'admin_fee',\n",
       "       'state_fee', 'late_fee', 'discount_amount', 'clean_up_cost',\n",
       "       'judgment_amount', 'lat', 'lon'],\n",
       "      dtype='object')"
      ]
     },
     "execution_count": 80,
     "metadata": {},
     "output_type": "execute_result"
    }
   ],
   "source": [
    "test1.columns"
   ]
  },
  {
   "cell_type": "code",
   "execution_count": 81,
   "metadata": {
    "collapsed": false
   },
   "outputs": [
    {
     "data": {
      "text/plain": [
       "Index(['ticket_issued_date', 'hearing_date', 'fine_amount', 'admin_fee',\n",
       "       'state_fee', 'late_fee', 'discount_amount', 'clean_up_cost',\n",
       "       'judgment_amount', 'lat', 'lon'],\n",
       "      dtype='object')"
      ]
     },
     "execution_count": 81,
     "metadata": {},
     "output_type": "execute_result"
    }
   ],
   "source": [
    "train1.columns"
   ]
  },
  {
   "cell_type": "code",
   "execution_count": 84,
   "metadata": {
    "collapsed": false
   },
   "outputs": [],
   "source": [
    "from sklearn.ensemble import RandomForestClassifier\n",
    "from sklearn.metrics import roc_auc_score\n",
    "from sklearn.ensemble import GradientBoostingClassifier\n",
    "from sklearn.naive_bayes import GaussianNB\n",
    "from sklearn.svm import SVC\n",
    "from sklearn.model_selection import GridSearchCV\n",
    "\n"
   ]
  },
  {
   "cell_type": "code",
   "execution_count": 85,
   "metadata": {
    "collapsed": true
   },
   "outputs": [],
   "source": [
    "train1=train1.drop(['ticket_issued_date', 'hearing_date'],axis=1)"
   ]
  },
  {
   "cell_type": "code",
   "execution_count": 86,
   "metadata": {
    "collapsed": true
   },
   "outputs": [],
   "source": [
    "test1=test1.drop(['ticket_issued_date', 'hearing_date'],axis=1)"
   ]
  },
  {
   "cell_type": "code",
   "execution_count": 89,
   "metadata": {
    "collapsed": false
   },
   "outputs": [
    {
     "data": {
      "text/html": [
       "<div>\n",
       "<table border=\"1\" class=\"dataframe\">\n",
       "  <thead>\n",
       "    <tr style=\"text-align: right;\">\n",
       "      <th></th>\n",
       "      <th>fine_amount</th>\n",
       "      <th>admin_fee</th>\n",
       "      <th>state_fee</th>\n",
       "      <th>late_fee</th>\n",
       "      <th>discount_amount</th>\n",
       "      <th>clean_up_cost</th>\n",
       "      <th>judgment_amount</th>\n",
       "      <th>lat</th>\n",
       "      <th>lon</th>\n",
       "    </tr>\n",
       "    <tr>\n",
       "      <th>ticket_id</th>\n",
       "      <th></th>\n",
       "      <th></th>\n",
       "      <th></th>\n",
       "      <th></th>\n",
       "      <th></th>\n",
       "      <th></th>\n",
       "      <th></th>\n",
       "      <th></th>\n",
       "      <th></th>\n",
       "    </tr>\n",
       "  </thead>\n",
       "  <tbody>\n",
       "    <tr>\n",
       "      <th>22056</th>\n",
       "      <td>250.0</td>\n",
       "      <td>20.0</td>\n",
       "      <td>10.0</td>\n",
       "      <td>25.0</td>\n",
       "      <td>0.0</td>\n",
       "      <td>0.0</td>\n",
       "      <td>305.0</td>\n",
       "      <td>42.390729</td>\n",
       "      <td>-83.124268</td>\n",
       "    </tr>\n",
       "    <tr>\n",
       "      <th>27586</th>\n",
       "      <td>750.0</td>\n",
       "      <td>20.0</td>\n",
       "      <td>10.0</td>\n",
       "      <td>75.0</td>\n",
       "      <td>0.0</td>\n",
       "      <td>0.0</td>\n",
       "      <td>855.0</td>\n",
       "      <td>42.326937</td>\n",
       "      <td>-83.135118</td>\n",
       "    </tr>\n",
       "  </tbody>\n",
       "</table>\n",
       "</div>"
      ],
      "text/plain": [
       "           fine_amount  admin_fee  state_fee  late_fee  discount_amount  \\\n",
       "ticket_id                                                                 \n",
       "22056            250.0       20.0       10.0      25.0              0.0   \n",
       "27586            750.0       20.0       10.0      75.0              0.0   \n",
       "\n",
       "           clean_up_cost  judgment_amount        lat        lon  \n",
       "ticket_id                                                        \n",
       "22056                0.0            305.0  42.390729 -83.124268  \n",
       "27586                0.0            855.0  42.326937 -83.135118  "
      ]
     },
     "execution_count": 89,
     "metadata": {},
     "output_type": "execute_result"
    }
   ],
   "source": [
    "train1.head(2)"
   ]
  },
  {
   "cell_type": "code",
   "execution_count": 91,
   "metadata": {
    "collapsed": false
   },
   "outputs": [],
   "source": [
    "train1=train1.drop(['discount_amount','clean_up_cost'],axis=1)\n",
    "test1=test1.drop(['discount_amount','clean_up_cost'],axis=1)"
   ]
  },
  {
   "cell_type": "code",
   "execution_count": 92,
   "metadata": {
    "collapsed": false
   },
   "outputs": [
    {
     "data": {
      "text/html": [
       "<div>\n",
       "<table border=\"1\" class=\"dataframe\">\n",
       "  <thead>\n",
       "    <tr style=\"text-align: right;\">\n",
       "      <th></th>\n",
       "      <th>fine_amount</th>\n",
       "      <th>admin_fee</th>\n",
       "      <th>state_fee</th>\n",
       "      <th>late_fee</th>\n",
       "      <th>judgment_amount</th>\n",
       "      <th>lat</th>\n",
       "      <th>lon</th>\n",
       "    </tr>\n",
       "    <tr>\n",
       "      <th>ticket_id</th>\n",
       "      <th></th>\n",
       "      <th></th>\n",
       "      <th></th>\n",
       "      <th></th>\n",
       "      <th></th>\n",
       "      <th></th>\n",
       "      <th></th>\n",
       "    </tr>\n",
       "  </thead>\n",
       "  <tbody>\n",
       "    <tr>\n",
       "      <th>22056</th>\n",
       "      <td>250.0</td>\n",
       "      <td>20.0</td>\n",
       "      <td>10.0</td>\n",
       "      <td>25.0</td>\n",
       "      <td>305.0</td>\n",
       "      <td>42.390729</td>\n",
       "      <td>-83.124268</td>\n",
       "    </tr>\n",
       "    <tr>\n",
       "      <th>27586</th>\n",
       "      <td>750.0</td>\n",
       "      <td>20.0</td>\n",
       "      <td>10.0</td>\n",
       "      <td>75.0</td>\n",
       "      <td>855.0</td>\n",
       "      <td>42.326937</td>\n",
       "      <td>-83.135118</td>\n",
       "    </tr>\n",
       "  </tbody>\n",
       "</table>\n",
       "</div>"
      ],
      "text/plain": [
       "           fine_amount  admin_fee  state_fee  late_fee  judgment_amount  \\\n",
       "ticket_id                                                                 \n",
       "22056            250.0       20.0       10.0      25.0            305.0   \n",
       "27586            750.0       20.0       10.0      75.0            855.0   \n",
       "\n",
       "                 lat        lon  \n",
       "ticket_id                        \n",
       "22056      42.390729 -83.124268  \n",
       "27586      42.326937 -83.135118  "
      ]
     },
     "execution_count": 92,
     "metadata": {},
     "output_type": "execute_result"
    }
   ],
   "source": [
    "train1.head(2)"
   ]
  },
  {
   "cell_type": "code",
   "execution_count": 100,
   "metadata": {
    "collapsed": false
   },
   "outputs": [],
   "source": [
    "train1.lat.fillna(method='pad',inplace=True\n",
    "                 )"
   ]
  },
  {
   "cell_type": "code",
   "execution_count": 105,
   "metadata": {
    "collapsed": false
   },
   "outputs": [],
   "source": [
    "train1.lon.fillna(method='pad',inplace=True\n",
    "                 )"
   ]
  },
  {
   "cell_type": "code",
   "execution_count": 106,
   "metadata": {
    "collapsed": true
   },
   "outputs": [],
   "source": [
    "test1.lat.fillna(method='pad',inplace=True)\n",
    "test1.lon.fillna(method='pad',inplace=True\n",
    "                 )"
   ]
  },
  {
   "cell_type": "code",
   "execution_count": 107,
   "metadata": {
    "collapsed": true
   },
   "outputs": [],
   "source": [
    "grid_values = {'learning_rate': [0.01, 0.1, 1], 'max_depth': [3, 4, 5]}\n",
    "clf = GradientBoostingClassifier(random_state = 0)\n",
    "grid_clf_auc = GridSearchCV(clf, param_grid = grid_values, scoring = 'roc_auc')\n",
    "grid_clf_auc.fit(train1, y_train1)\n",
    "probs = grid_clf_auc.predict_proba(test1)[:, 1]\n",
    "result = pd.Series(probs, index=test1.index)\n",
    "    "
   ]
  },
  {
   "cell_type": "code",
   "execution_count": 108,
   "metadata": {
    "collapsed": false
   },
   "outputs": [
    {
     "data": {
      "text/plain": [
       "ticket_id\n",
       "284932    0.053212\n",
       "285362    0.021257\n",
       "285361    0.059278\n",
       "285338    0.078960\n",
       "285346    0.085650\n",
       "285345    0.078960\n",
       "285347    0.080294\n",
       "285342    0.390298\n",
       "285530    0.027699\n",
       "284989    0.035891\n",
       "285344    0.077245\n",
       "285343    0.034473\n",
       "285340    0.034998\n",
       "285341    0.080294\n",
       "285349    0.085650\n",
       "285348    0.078960\n",
       "284991    0.035891\n",
       "285532    0.030662\n",
       "285406    0.027174\n",
       "285001    0.056100\n",
       "285006    0.047356\n",
       "285405    0.021257\n",
       "285337    0.026024\n",
       "285496    0.062088\n",
       "285497    0.063977\n",
       "285378    0.022632\n",
       "285589    0.031317\n",
       "285585    0.053859\n",
       "285501    0.067571\n",
       "285581    0.022046\n",
       "            ...   \n",
       "376367    0.027796\n",
       "376366    0.033436\n",
       "376362    0.033510\n",
       "376363    0.056241\n",
       "376365    0.027796\n",
       "376364    0.033436\n",
       "376228    0.056147\n",
       "376265    0.030319\n",
       "376286    0.369942\n",
       "376320    0.037756\n",
       "376314    0.028732\n",
       "376327    0.440511\n",
       "376385    0.419648\n",
       "376435    0.538221\n",
       "376370    0.440511\n",
       "376434    0.064002\n",
       "376459    0.072308\n",
       "376478    0.018545\n",
       "376473    0.037266\n",
       "376484    0.035544\n",
       "376482    0.032769\n",
       "376480    0.032769\n",
       "376479    0.032769\n",
       "376481    0.032769\n",
       "376483    0.040380\n",
       "376496    0.022535\n",
       "376497    0.022535\n",
       "376499    0.057127\n",
       "376500    0.057127\n",
       "369851    0.293320\n",
       "dtype: float64"
      ]
     },
     "execution_count": 108,
     "metadata": {},
     "output_type": "execute_result"
    }
   ],
   "source": [
    "result"
   ]
  },
  {
   "cell_type": "code",
   "execution_count": 110,
   "metadata": {
    "collapsed": false
   },
   "outputs": [
    {
     "data": {
      "text/plain": [
       "ticket_id\n",
       "284932    0.053212\n",
       "285362    0.021257\n",
       "285361    0.059278\n",
       "285338    0.078960\n",
       "285346    0.085650\n",
       "285345    0.078960\n",
       "285347    0.080294\n",
       "285342    0.390298\n",
       "285530    0.027699\n",
       "284989    0.035891\n",
       "285344    0.077245\n",
       "285343    0.034473\n",
       "285340    0.034998\n",
       "285341    0.080294\n",
       "285349    0.085650\n",
       "285348    0.078960\n",
       "284991    0.035891\n",
       "285532    0.030662\n",
       "285406    0.027174\n",
       "285001    0.056100\n",
       "285006    0.047356\n",
       "285405    0.021257\n",
       "285337    0.026024\n",
       "285496    0.062088\n",
       "285497    0.063977\n",
       "285378    0.022632\n",
       "285589    0.031317\n",
       "285585    0.053859\n",
       "285501    0.067571\n",
       "285581    0.022046\n",
       "            ...   \n",
       "376367    0.027796\n",
       "376366    0.033436\n",
       "376362    0.033510\n",
       "376363    0.056241\n",
       "376365    0.027796\n",
       "376364    0.033436\n",
       "376228    0.056147\n",
       "376265    0.030319\n",
       "376286    0.369942\n",
       "376320    0.037756\n",
       "376314    0.028732\n",
       "376327    0.440511\n",
       "376385    0.419648\n",
       "376435    0.538221\n",
       "376370    0.440511\n",
       "376434    0.064002\n",
       "376459    0.072308\n",
       "376478    0.018545\n",
       "376473    0.037266\n",
       "376484    0.035544\n",
       "376482    0.032769\n",
       "376480    0.032769\n",
       "376479    0.032769\n",
       "376481    0.032769\n",
       "376483    0.040380\n",
       "376496    0.022535\n",
       "376497    0.022535\n",
       "376499    0.057127\n",
       "376500    0.057127\n",
       "369851    0.293320\n",
       "dtype: float64"
      ]
     },
     "execution_count": 110,
     "metadata": {},
     "output_type": "execute_result"
    }
   ],
   "source": [
    "blight_model()"
   ]
  },
  {
   "cell_type": "code",
   "execution_count": 112,
   "metadata": {
    "collapsed": false
   },
   "outputs": [],
   "source": [
    "from sklearn.neural_network import MLPClassifier\n",
    "from sklearn.preprocessing import MinMaxScaler\n",
    "scaler = MinMaxScaler()\n",
    "X_train_scaled = scaler.fit_transform(train1)\n",
    "X_test_scaled = scaler.transform(test1)\n",
    "    \n",
    "clf = MLPClassifier(hidden_layer_sizes = [100, 10], alpha = 5,\n",
    "                       random_state = 0, solver='adam', verbose=0)\n",
    "#   clf = DecisionTreeClassifier()\n",
    "clf.fit(X_train_scaled, y_train1)\n",
    "\n",
    "test_proba = clf.predict_proba(X_test_scaled)[:,1]\n",
    "result1 = pd.Series(test_proba, index=test1.index)"
   ]
  },
  {
   "cell_type": "code",
   "execution_count": 113,
   "metadata": {
    "collapsed": false
   },
   "outputs": [
    {
     "data": {
      "text/plain": [
       "ticket_id\n",
       "284932    0.070297\n",
       "285362    0.070297\n",
       "285361    0.070297\n",
       "285338    0.070297\n",
       "285346    0.070297\n",
       "285345    0.070297\n",
       "285347    0.070297\n",
       "285342    0.070297\n",
       "285530    0.070297\n",
       "284989    0.070297\n",
       "285344    0.070297\n",
       "285343    0.070297\n",
       "285340    0.070297\n",
       "285341    0.070297\n",
       "285349    0.070297\n",
       "285348    0.070297\n",
       "284991    0.070297\n",
       "285532    0.070297\n",
       "285406    0.070297\n",
       "285001    0.070297\n",
       "285006    0.070297\n",
       "285405    0.070297\n",
       "285337    0.070297\n",
       "285496    0.070297\n",
       "285497    0.070297\n",
       "285378    0.070297\n",
       "285589    0.070297\n",
       "285585    0.070297\n",
       "285501    0.070297\n",
       "285581    0.070297\n",
       "            ...   \n",
       "376367    0.070297\n",
       "376366    0.070297\n",
       "376362    0.070297\n",
       "376363    0.070297\n",
       "376365    0.070297\n",
       "376364    0.070297\n",
       "376228    0.070297\n",
       "376265    0.070297\n",
       "376286    0.070297\n",
       "376320    0.070297\n",
       "376314    0.070297\n",
       "376327    0.070297\n",
       "376385    0.070297\n",
       "376435    0.070297\n",
       "376370    0.070297\n",
       "376434    0.070297\n",
       "376459    0.070297\n",
       "376478    0.070298\n",
       "376473    0.070297\n",
       "376484    0.070297\n",
       "376482    0.070297\n",
       "376480    0.070297\n",
       "376479    0.070297\n",
       "376481    0.070297\n",
       "376483    0.070297\n",
       "376496    0.070297\n",
       "376497    0.070297\n",
       "376499    0.070297\n",
       "376500    0.070297\n",
       "369851    0.070297\n",
       "dtype: float64"
      ]
     },
     "execution_count": 113,
     "metadata": {},
     "output_type": "execute_result"
    }
   ],
   "source": [
    "result1"
   ]
  },
  {
   "cell_type": "code",
   "execution_count": null,
   "metadata": {
    "collapsed": true
   },
   "outputs": [],
   "source": []
  }
 ],
 "metadata": {
  "coursera": {
   "course_slug": "python-machine-learning",
   "graded_item_id": "nNS8l",
   "launcher_item_id": "yWWk7",
   "part_id": "w8BSS"
  },
  "kernelspec": {
   "display_name": "Python 3",
   "language": "python",
   "name": "python3"
  },
  "language_info": {
   "codemirror_mode": {
    "name": "ipython",
    "version": 3
   },
   "file_extension": ".py",
   "mimetype": "text/x-python",
   "name": "python",
   "nbconvert_exporter": "python",
   "pygments_lexer": "ipython3",
   "version": "3.5.2"
  }
 },
 "nbformat": 4,
 "nbformat_minor": 2
}
